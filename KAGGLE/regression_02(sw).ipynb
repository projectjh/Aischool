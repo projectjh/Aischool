{
 "cells": [
  {
   "cell_type": "code",
   "execution_count": 1,
   "id": "4ea2a285",
   "metadata": {},
   "outputs": [],
   "source": [
    "import pandas as pd\n",
    "import numpy as np\n",
    "from sklearn import model_selection\n",
    "from sklearn.metrics import accuracy_score\n",
    "import matplotlib.pyplot as plt\n",
    "from sklearn import linear_model, datasets\n",
    "from sklearn.preprocessing import MinMaxScaler, StandardScaler\n",
    "from sklearn.linear_model import LinearRegression, Ridge, Lasso\n",
    "from sklearn.model_selection import train_test_split\n",
    "from sklearn.model_selection import GridSearchCV\n",
    "from sklearn.model_selection import KFold"
   ]
  },
  {
   "cell_type": "code",
   "execution_count": 2,
   "id": "a94ac978",
   "metadata": {},
   "outputs": [],
   "source": [
    "df_train = pd.read_csv(\"./train.csv\")\n",
    "df_test = pd.read_csv(\"./test.csv\")\n",
    "x_train =[]\n",
    "y_train = []\n",
    "x_test =[]\n",
    "y_test = []\n",
    "test_id = []\n"
   ]
  },
  {
   "cell_type": "code",
   "execution_count": 3,
   "id": "5d72007b",
   "metadata": {},
   "outputs": [],
   "source": [
    "def preprocess_for_scoretest(df):\n",
    "    global  x_train, y_train, x_test, y_test, test_id, df_train\n",
    "    \n",
    "    df = df.drop([\"ID\",\"ADDRESS\", \"SUBURB\", \"NEAREST_STN\",\"NEAREST_SCH\"], axis = 1)    \n",
    "    \n",
    "    df[\"DATE_SOLD\"] = pd.to_datetime(df[\"DATE_SOLD\"])\n",
    "    df[\"DATE_YEAR\"] = df[\"DATE_SOLD\"].apply(lambda x : x.year)\n",
    "    df[\"DATE_MONTH\"] = df[\"DATE_SOLD\"].apply(lambda x : x.month)\n",
    "    df = df.drop(\"DATE_SOLD\", axis=1)    \n",
    "    \n",
    "    df[\"GARAGE\"] = df[\"GARAGE\"].fillna(0)\n",
    "    df[\"BUILD_YEAR\"] = df[\"BUILD_YEAR\"].fillna(df[\"BUILD_YEAR\"].mean())    \n",
    "    df[\"NEAREST_SCH_RANK\"] = df[\"NEAREST_SCH_RANK\"].fillna(df[\"NEAREST_SCH_RANK\"].mean())\n",
    "    \n",
    "    # df_train = df\n",
    "    \n",
    "    return train_test_split(df.iloc[:, 1:], df[\"PRICE\"], random_state=42)"
   ]
  },
  {
   "cell_type": "code",
   "execution_count": 4,
   "id": "5529117e",
   "metadata": {},
   "outputs": [],
   "source": [
    "def preprocess_real(_type, df) :\n",
    "    global  x_train, y_train, x_test, y_test, test_id\n",
    "    \n",
    "    test_id = df[\"ID\"]\n",
    "    \n",
    "    df = df.drop([\"ID\",\"ADDRESS\", \"SUBURB\", \"NEAREST_STN\",\"NEAREST_SCH\"], axis = 1)    \n",
    "    \n",
    "    df[\"DATE_SOLD\"] = pd.to_datetime(df[\"DATE_SOLD\"])\n",
    "    df[\"DATE_YEAR\"] = df[\"DATE_SOLD\"].apply(lambda x : x.year)\n",
    "    df[\"DATE_MONTH\"] = df[\"DATE_SOLD\"].apply(lambda x : x.month)\n",
    "    df = df.drop(\"DATE_SOLD\", axis=1)    \n",
    "    \n",
    "    df[\"GARAGE\"] = df[\"GARAGE\"].fillna(0)\n",
    "    df[\"BUILD_YEAR\"] = df[\"BUILD_YEAR\"].fillna(df[\"BUILD_YEAR\"].median())    \n",
    "    df[\"NEAREST_SCH_RANK\"] = df[\"NEAREST_SCH_RANK\"].fillna(df[\"NEAREST_SCH_RANK\"].mean())\n",
    "    \n",
    "   \n",
    "    if _type == \"train\" :         \n",
    "        y_train = df[\"PRICE\"]        \n",
    "        x_train = df.drop([\"PRICE\"], axis = 1)\n",
    "    else :\n",
    "        x_test = df\n",
    "    "
   ]
  },
  {
   "cell_type": "code",
   "execution_count": 5,
   "id": "ea3506c7",
   "metadata": {},
   "outputs": [],
   "source": [
    "def scaler():\n",
    "    global  x_train, x_test\n",
    "    sc = StandardScaler()\n",
    "    sc.fit(x_train)   \n",
    "    x_train = sc.fit_transform(x_train)\n",
    "    x_test = sc.fit_transform(x_test)\n",
    "    "
   ]
  },
  {
   "cell_type": "code",
   "execution_count": 6,
   "id": "5dcef2cb",
   "metadata": {},
   "outputs": [
    {
     "name": "stdout",
     "output_type": "stream",
     "text": [
      "정확도 : 0.6048848764402284\n"
     ]
    }
   ],
   "source": [
    "x_train, x_test, y_train, y_test = preprocess_for_scoretest(df_train)\n",
    "#scaler()\n",
    "model = LinearRegression()\n",
    "model.fit(x_train, y_train)\n",
    "score = model.score(x_test, y_test)\n",
    "print(\"정확도 :\", score)"
   ]
  },
  {
   "cell_type": "code",
   "execution_count": null,
   "id": "51e87ff1",
   "metadata": {},
   "outputs": [],
   "source": []
  }
 ],
 "metadata": {
  "kernelspec": {
   "display_name": "Python 3 (ipykernel)",
   "language": "python",
   "name": "python3"
  },
  "language_info": {
   "codemirror_mode": {
    "name": "ipython",
    "version": 3
   },
   "file_extension": ".py",
   "mimetype": "text/x-python",
   "name": "python",
   "nbconvert_exporter": "python",
   "pygments_lexer": "ipython3",
   "version": "3.7.9"
  }
 },
 "nbformat": 4,
 "nbformat_minor": 5
}
