{
 "cells": [
  {
   "cell_type": "markdown",
   "id": "475a6272",
   "metadata": {},
   "source": [
    "# RNN(Recurrent Neural Network, 순환 신경망)"
   ]
  },
  {
   "cell_type": "markdown",
   "id": "b61630ae",
   "metadata": {},
   "source": [
    "---\n",
    "##### model.add(SimpleRNN(hidden_size, input_shape=(timesteps, input_dim))) \n",
    "##### = model.add(SimpleRNN(hidden_size, input_length=M, input_dim=N))\n",
    "\n",
    "<br>\n",
    "\n",
    "- hidden_size: 은닉 상태의 크기를 정의. 메모리 셀이 다음 시점의 메모리 셀과 출력층으로 보내는 값의 크기(output_dim)와 동일. 중소형 모델의 경우 128, 256, 512, 1024 등의 값을 사용\n",
    "- timeseps: 입력 시퀀스의 길이 (input_length로 표현하기도 함)\n",
    "- input_dim: 입력의 크기\n",
    "---"
   ]
  },
  {
   "cell_type": "code",
   "execution_count": 2,
   "id": "d52d37aa",
   "metadata": {},
   "outputs": [
    {
     "name": "stdout",
     "output_type": "stream",
     "text": [
      "Model: \"sequential_1\"\n",
      "_________________________________________________________________\n",
      " Layer (type)                Output Shape              Param #   \n",
      "=================================================================\n",
      " simple_rnn_1 (SimpleRNN)    (None, 3)                 42        \n",
      "                                                                 \n",
      "=================================================================\n",
      "Total params: 42\n",
      "Trainable params: 42\n",
      "Non-trainable params: 0\n",
      "_________________________________________________________________\n"
     ]
    }
   ],
   "source": [
    "from keras.models import Sequential\n",
    "from keras.layers import SimpleRNN\n",
    "\n",
    "model = Sequential()\n",
    "# model.add(SimpleRNN(3, input_shape=(2,10)))\n",
    "model.add(SimpleRNN(3, input_length=2, input_dim=10))\n",
    "model.summary()\n",
    "\n",
    "# (10(입력층) * 3(은닉층)) + (3(은닉층) * 3(은닉층)) + 3(출력층)"
   ]
  },
  {
   "cell_type": "code",
   "execution_count": 3,
   "id": "273fe8c2",
   "metadata": {},
   "outputs": [
    {
     "name": "stdout",
     "output_type": "stream",
     "text": [
      "Model: \"sequential_2\"\n",
      "_________________________________________________________________\n",
      " Layer (type)                Output Shape              Param #   \n",
      "=================================================================\n",
      " simple_rnn_2 (SimpleRNN)    (8, 3)                    42        \n",
      "                                                                 \n",
      "=================================================================\n",
      "Total params: 42\n",
      "Trainable params: 42\n",
      "Non-trainable params: 0\n",
      "_________________________________________________________________\n"
     ]
    }
   ],
   "source": [
    "from keras.models import Sequential\n",
    "from keras.layers import SimpleRNN\n",
    "\n",
    "model = Sequential()\n",
    "model.add(SimpleRNN(3, batch_input_shape=(8, 2, 10)))\n",
    "model.summary()\n",
    "\n",
    "# batch_input_shape(batch_size, timesteps, input_dim)"
   ]
  },
  {
   "cell_type": "code",
   "execution_count": 4,
   "id": "63e0b987",
   "metadata": {},
   "outputs": [
    {
     "name": "stdout",
     "output_type": "stream",
     "text": [
      "Model: \"sequential_3\"\n",
      "_________________________________________________________________\n",
      " Layer (type)                Output Shape              Param #   \n",
      "=================================================================\n",
      " simple_rnn_3 (SimpleRNN)    (8, 2, 3)                 42        \n",
      "                                                                 \n",
      "=================================================================\n",
      "Total params: 42\n",
      "Trainable params: 42\n",
      "Non-trainable params: 0\n",
      "_________________________________________________________________\n"
     ]
    }
   ],
   "source": [
    "from keras.models import Sequential\n",
    "from keras.layers import SimpleRNN\n",
    "\n",
    "model = Sequential()\n",
    "model.add(SimpleRNN(3, batch_input_shape=(8, 2, 10), return_sequences=True))\n",
    "model.summary()\n",
    "\n",
    "# return_sequnces=True를 주면 매 타임상태의 결과를 출력한다."
   ]
  },
  {
   "cell_type": "markdown",
   "id": "b643e2dc",
   "metadata": {},
   "source": [
    "---"
   ]
  },
  {
   "cell_type": "markdown",
   "id": "1b7eb413",
   "metadata": {},
   "source": [
    "## RNN을 이용하여 텍스트 생성하기"
   ]
  },
  {
   "cell_type": "markdown",
   "id": "cccfee0a",
   "metadata": {},
   "source": [
    "### 1. 데이터에 대한 이해와 전처리"
   ]
  },
  {
   "cell_type": "code",
   "execution_count": 80,
   "id": "b1ef6122",
   "metadata": {},
   "outputs": [
    {
     "name": "stdout",
     "output_type": "stream",
     "text": [
      "단어 집합의 크기: 12\n"
     ]
    }
   ],
   "source": [
    "from tensorflow.keras.preprocessing.text import Tokenizer\n",
    "from tensorflow.keras.preprocessing.sequence import pad_sequences\n",
    "import numpy as np\n",
    "from tensorflow.keras.utils import to_categorical\n",
    "\n",
    "text = \"\"\"경마장에 있는 말이 뛰고 있다\\n그의 말이 법이다\\n가는 말이 고와야 오는 말이 곱다\\n\"\"\"\n",
    "t = Tokenizer()\n",
    "t.fit_on_texts([text])\n",
    "vocab_size = len(t.word_index) + 1   # 실제 값보다 하나 더 크게 설계\n",
    "print(\"단어 집합의 크기: %d\" % vocab_size)"
   ]
  },
  {
   "cell_type": "markdown",
   "id": "22d6781c",
   "metadata": {},
   "source": [
    "#####  - 각 단어와 단어에 부여된 정수 인덱스 출력"
   ]
  },
  {
   "cell_type": "code",
   "execution_count": 81,
   "id": "567fcc83",
   "metadata": {},
   "outputs": [
    {
     "name": "stdout",
     "output_type": "stream",
     "text": [
      "{'말이': 1, '경마장에': 2, '있는': 3, '뛰고': 4, '있다': 5, '그의': 6, '법이다': 7, '가는': 8, '고와야': 9, '오는': 10, '곱다': 11}\n"
     ]
    }
   ],
   "source": [
    "print(t.word_index)"
   ]
  },
  {
   "cell_type": "code",
   "execution_count": 82,
   "id": "56fad8c5",
   "metadata": {},
   "outputs": [
    {
     "name": "stdout",
     "output_type": "stream",
     "text": [
      "학습에 사용할 샘플의 개수: 11\n",
      "[[2, 3], [2, 3, 1], [2, 3, 1, 4], [2, 3, 1, 4, 5], [6, 1], [6, 1, 7], [8, 1], [8, 1, 9], [8, 1, 9, 10], [8, 1, 9, 10, 1], [8, 1, 9, 10, 1, 11]]\n"
     ]
    }
   ],
   "source": [
    "sequences = list()\n",
    "\n",
    "for line in text.split('\\n'):\n",
    "#     print(t.texts_to_sequences([line]))\n",
    "    encoded = t.texts_to_sequences([line])[0]\n",
    "#     print(encoded)\n",
    "    \n",
    "    for i in range(1, len(encoded)):\n",
    "        sequence = encoded[:i+1]\n",
    "        sequences.append(sequence)\n",
    "        \n",
    "print(\"학습에 사용할 샘플의 개수: %d\" % len(sequences))\n",
    "print(sequences)\n",
    "\n",
    "# 학습할 데이터를 생성하는 과정"
   ]
  },
  {
   "cell_type": "code",
   "execution_count": 83,
   "id": "952a33cb",
   "metadata": {},
   "outputs": [
    {
     "name": "stdout",
     "output_type": "stream",
     "text": [
      "샘플의 최대 길이: 6\n"
     ]
    }
   ],
   "source": [
    "max_len = max(len(I) for I in sequences)\n",
    "print(\"샘플의 최대 길이: {}\".format(max_len))"
   ]
  },
  {
   "cell_type": "markdown",
   "id": "deb5e970",
   "metadata": {},
   "source": [
    "##### - 전체 샘플의 길이를 6으로 패딩"
   ]
  },
  {
   "cell_type": "code",
   "execution_count": 84,
   "id": "1453bdca",
   "metadata": {},
   "outputs": [
    {
     "name": "stdout",
     "output_type": "stream",
     "text": [
      "[[ 0  0  0  0  2  3]\n",
      " [ 0  0  0  2  3  1]\n",
      " [ 0  0  2  3  1  4]\n",
      " [ 0  2  3  1  4  5]\n",
      " [ 0  0  0  0  6  1]\n",
      " [ 0  0  0  6  1  7]\n",
      " [ 0  0  0  0  8  1]\n",
      " [ 0  0  0  8  1  9]\n",
      " [ 0  0  8  1  9 10]\n",
      " [ 0  8  1  9 10  1]\n",
      " [ 8  1  9 10  1 11]]\n"
     ]
    }
   ],
   "source": [
    "sequences = pad_sequences(sequences, maxlen=max_len, padding='pre')\n",
    "print(sequences)"
   ]
  },
  {
   "cell_type": "code",
   "execution_count": 85,
   "id": "2c03ad1c",
   "metadata": {},
   "outputs": [
    {
     "name": "stdout",
     "output_type": "stream",
     "text": [
      "X:\n",
      " [[ 0  0  0  0  2]\n",
      " [ 0  0  0  2  3]\n",
      " [ 0  0  2  3  1]\n",
      " [ 0  2  3  1  4]\n",
      " [ 0  0  0  0  6]\n",
      " [ 0  0  0  6  1]\n",
      " [ 0  0  0  0  8]\n",
      " [ 0  0  0  8  1]\n",
      " [ 0  0  8  1  9]\n",
      " [ 0  8  1  9 10]\n",
      " [ 8  1  9 10  1]]\n",
      "y:\n",
      " [ 3  1  4  5  1  7  1  9 10  1 11]\n"
     ]
    }
   ],
   "source": [
    "sequences = np.array(sequences)\n",
    "X = sequences[:, :-1]\n",
    "y = sequences[:, -1]\n",
    "\n",
    "print(\"X:\\n\", X)\n",
    "print(\"y:\\n\", y)"
   ]
  },
  {
   "cell_type": "markdown",
   "id": "36968a50",
   "metadata": {},
   "source": [
    "##### - 원-핫 인코딩 수행"
   ]
  },
  {
   "cell_type": "code",
   "execution_count": 86,
   "id": "6b9b344a",
   "metadata": {},
   "outputs": [
    {
     "name": "stdout",
     "output_type": "stream",
     "text": [
      "[[0. 0. 0. 1. 0. 0. 0. 0. 0. 0. 0. 0.]\n",
      " [0. 1. 0. 0. 0. 0. 0. 0. 0. 0. 0. 0.]\n",
      " [0. 0. 0. 0. 1. 0. 0. 0. 0. 0. 0. 0.]\n",
      " [0. 0. 0. 0. 0. 1. 0. 0. 0. 0. 0. 0.]\n",
      " [0. 1. 0. 0. 0. 0. 0. 0. 0. 0. 0. 0.]\n",
      " [0. 0. 0. 0. 0. 0. 0. 1. 0. 0. 0. 0.]\n",
      " [0. 1. 0. 0. 0. 0. 0. 0. 0. 0. 0. 0.]\n",
      " [0. 0. 0. 0. 0. 0. 0. 0. 0. 1. 0. 0.]\n",
      " [0. 0. 0. 0. 0. 0. 0. 0. 0. 0. 1. 0.]\n",
      " [0. 1. 0. 0. 0. 0. 0. 0. 0. 0. 0. 0.]\n",
      " [0. 0. 0. 0. 0. 0. 0. 0. 0. 0. 0. 1.]]\n"
     ]
    }
   ],
   "source": [
    "y = to_categorical(y, num_classes=vocab_size)\n",
    "print(y)\n",
    "\n",
    "# keras에서 to_categorical은 원-핫 인코딩\n",
    "# 단어는 1부터 11까지 11개인데, 원-핫 인코딩 수행시 실제로 0-10까지 결과값밖에 나오지 않음. \n",
    "# 그래서 상단에서 vocal_size에 1을 더해줌으로 0-11까지 사용할 수 있게 해준다."
   ]
  },
  {
   "cell_type": "markdown",
   "id": "936108c5",
   "metadata": {},
   "source": [
    "### 2.  모델 설계하기"
   ]
  },
  {
   "cell_type": "markdown",
   "id": "e91af3f4",
   "metadata": {},
   "source": [
    "---\n",
    "<h3><span style=\"color:#ff6600;\">tf.keras.layers.Embedding</span><br><span style=\"font-weight:500; color:#666;\">(input_dim, output_dim, embeddings_initializer='uniform', embeddings_regularizer=None, activity_regularizer=None, embeddings_constraint=None, mask_zero=False, input_length=None, **kwargs)</span></h3>\n",
    "\n",
    "<br>\n",
    "\n",
    "- 인수:\n",
    "    - input_dim: 입력 크기\n",
    "    - output_dim: 출력 크기\n",
    "    - input_length: 입력 데이터의 길이\n",
    "\n",
    "- 역할: \n",
    "    - 단어를 밀집 벡터로 만드는 일을 수행한다. \n",
    "    - 정수 인코딩이 된 단어들을 입력으로 받아 수행한다. \n",
    "    - 단어를 랜덤한 값을 가지는 밀집 벡터로 변환한 뒤에, 인공 신경망의 가중치를 학습하는 것과 같은 방식으로 단어 벡터를 학습하는 방법을 사용한다.\n",
    "    \n",
    "    \n",
    "---"
   ]
  },
  {
   "cell_type": "code",
   "execution_count": 87,
   "id": "325f2818",
   "metadata": {},
   "outputs": [
    {
     "name": "stdout",
     "output_type": "stream",
     "text": [
      "Model: \"sequential_11\"\n",
      "_________________________________________________________________\n",
      " Layer (type)                Output Shape              Param #   \n",
      "=================================================================\n",
      " embedding_7 (Embedding)     (None, 5, 7)              84        \n",
      "                                                                 \n",
      " simple_rnn_11 (SimpleRNN)   (None, 32)                1280      \n",
      "                                                                 \n",
      " dense_6 (Dense)             (None, 12)                396       \n",
      "                                                                 \n",
      "=================================================================\n",
      "Total params: 1,760\n",
      "Trainable params: 1,760\n",
      "Non-trainable params: 0\n",
      "_________________________________________________________________\n"
     ]
    }
   ],
   "source": [
    "from tensorflow.keras.models import Sequential\n",
    "from tensorflow.keras.layers import Embedding, Dense, SimpleRNN\n",
    "\n",
    "model = Sequential()\n",
    "model.add(Embedding(vocab_size, 7, input_length=max_len-1))\n",
    "model.add(SimpleRNN(32))\n",
    "model.add(Dense(vocab_size, activation='softmax'))\n",
    "model.summary()"
   ]
  },
  {
   "attachments": {
    "image-2.png": {
     "image/png": "[encoded data removed]"
    }
   },
   "cell_type": "markdown",
   "id": "c449e91b",
   "metadata": {},
   "source": [
    "![image-2.png](attachment:image-2.png)"
   ]
  },
  {
   "cell_type": "code",
   "execution_count": 88,
   "id": "09d2adfe",
   "metadata": {},
   "outputs": [
    {
     "name": "stdout",
     "output_type": "stream",
     "text": [
      "Epoch 1/200\n",
      "WARNING:tensorflow:AutoGraph could not transform <function Model.make_train_function.<locals>.train_function at 0x000001BC41AB1AF8> and will run it as-is.\n",
      "Please report this to the TensorFlow team. When filing the bug, set the verbosity to 10 (on Linux, `export AUTOGRAPH_VERBOSITY=10`) and attach the full output.\n",
      "Cause: 'arguments' object has no attribute 'posonlyargs'\n",
      "To silence this warning, decorate the function with @tf.autograph.experimental.do_not_convert\n",
      "WARNING: AutoGraph could not transform <function Model.make_train_function.<locals>.train_function at 0x000001BC41AB1AF8> and will run it as-is.\n",
      "Please report this to the TensorFlow team. When filing the bug, set the verbosity to 10 (on Linux, `export AUTOGRAPH_VERBOSITY=10`) and attach the full output.\n",
      "Cause: 'arguments' object has no attribute 'posonlyargs'\n",
      "To silence this warning, decorate the function with @tf.autograph.experimental.do_not_convert\n",
      "1/1 - 1s - loss: 2.4891 - accuracy: 0.0909 - 572ms/epoch - 572ms/step\n",
      "Epoch 2/200\n",
      "1/1 - 0s - loss: 2.4776 - accuracy: 0.0909 - 3ms/epoch - 3ms/step\n",
      "Epoch 3/200\n",
      "1/1 - 0s - loss: 2.4664 - accuracy: 0.0909 - 2ms/epoch - 2ms/step\n",
      "Epoch 4/200\n",
      "1/1 - 0s - loss: 2.4554 - accuracy: 0.0909 - 6ms/epoch - 6ms/step\n",
      "Epoch 5/200\n",
      "1/1 - 0s - loss: 2.4444 - accuracy: 0.1818 - 3ms/epoch - 3ms/step\n",
      "Epoch 6/200\n",
      "1/1 - 0s - loss: 2.4334 - accuracy: 0.1818 - 3ms/epoch - 3ms/step\n",
      "Epoch 7/200\n",
      "1/1 - 0s - loss: 2.4220 - accuracy: 0.1818 - 6ms/epoch - 6ms/step\n",
      "Epoch 8/200\n",
      "1/1 - 0s - loss: 2.4104 - accuracy: 0.2727 - 2ms/epoch - 2ms/step\n",
      "Epoch 9/200\n",
      "1/1 - 0s - loss: 2.3984 - accuracy: 0.3636 - 2ms/epoch - 2ms/step\n",
      "Epoch 10/200\n",
      "1/1 - 0s - loss: 2.3860 - accuracy: 0.4545 - 6ms/epoch - 6ms/step\n",
      "Epoch 11/200\n",
      "1/1 - 0s - loss: 2.3730 - accuracy: 0.4545 - 4ms/epoch - 4ms/step\n",
      "Epoch 12/200\n",
      "1/1 - 0s - loss: 2.3594 - accuracy: 0.4545 - 3ms/epoch - 3ms/step\n",
      "Epoch 13/200\n",
      "1/1 - 0s - loss: 2.3452 - accuracy: 0.3636 - 5ms/epoch - 5ms/step\n",
      "Epoch 14/200\n",
      "1/1 - 0s - loss: 2.3303 - accuracy: 0.3636 - 4ms/epoch - 4ms/step\n",
      "Epoch 15/200\n",
      "1/1 - 0s - loss: 2.3147 - accuracy: 0.3636 - 3ms/epoch - 3ms/step\n",
      "Epoch 16/200\n",
      "1/1 - 0s - loss: 2.2984 - accuracy: 0.3636 - 3ms/epoch - 3ms/step\n",
      "Epoch 17/200\n",
      "1/1 - 0s - loss: 2.2812 - accuracy: 0.3636 - 3ms/epoch - 3ms/step\n",
      "Epoch 18/200\n",
      "1/1 - 0s - loss: 2.2631 - accuracy: 0.3636 - 6ms/epoch - 6ms/step\n",
      "Epoch 19/200\n",
      "1/1 - 0s - loss: 2.2442 - accuracy: 0.3636 - 2ms/epoch - 2ms/step\n",
      "Epoch 20/200\n",
      "1/1 - 0s - loss: 2.2244 - accuracy: 0.3636 - 4ms/epoch - 4ms/step\n",
      "Epoch 21/200\n",
      "1/1 - 0s - loss: 2.2037 - accuracy: 0.3636 - 2ms/epoch - 2ms/step\n",
      "Epoch 22/200\n",
      "1/1 - 0s - loss: 2.1822 - accuracy: 0.3636 - 2ms/epoch - 2ms/step\n",
      "Epoch 23/200\n",
      "1/1 - 0s - loss: 2.1598 - accuracy: 0.3636 - 3ms/epoch - 3ms/step\n",
      "Epoch 24/200\n",
      "1/1 - 0s - loss: 2.1366 - accuracy: 0.3636 - 2ms/epoch - 2ms/step\n",
      "Epoch 25/200\n",
      "1/1 - 0s - loss: 2.1127 - accuracy: 0.3636 - 6ms/epoch - 6ms/step\n",
      "Epoch 26/200\n",
      "1/1 - 0s - loss: 2.0882 - accuracy: 0.3636 - 4ms/epoch - 4ms/step\n",
      "Epoch 27/200\n",
      "1/1 - 0s - loss: 2.0631 - accuracy: 0.3636 - 3ms/epoch - 3ms/step\n",
      "Epoch 28/200\n",
      "1/1 - 0s - loss: 2.0378 - accuracy: 0.3636 - 3ms/epoch - 3ms/step\n",
      "Epoch 29/200\n",
      "1/1 - 0s - loss: 2.0122 - accuracy: 0.3636 - 3ms/epoch - 3ms/step\n",
      "Epoch 30/200\n",
      "1/1 - 0s - loss: 1.9866 - accuracy: 0.3636 - 5ms/epoch - 5ms/step\n",
      "Epoch 31/200\n",
      "1/1 - 0s - loss: 1.9612 - accuracy: 0.3636 - 2ms/epoch - 2ms/step\n",
      "Epoch 32/200\n",
      "1/1 - 0s - loss: 1.9361 - accuracy: 0.3636 - 3ms/epoch - 3ms/step\n",
      "Epoch 33/200\n",
      "1/1 - 0s - loss: 1.9115 - accuracy: 0.3636 - 4ms/epoch - 4ms/step\n",
      "Epoch 34/200\n",
      "1/1 - 0s - loss: 1.8874 - accuracy: 0.3636 - 1ms/epoch - 1ms/step\n",
      "Epoch 35/200\n",
      "1/1 - 0s - loss: 1.8641 - accuracy: 0.3636 - 3ms/epoch - 3ms/step\n",
      "Epoch 36/200\n",
      "1/1 - 0s - loss: 1.8415 - accuracy: 0.3636 - 3ms/epoch - 3ms/step\n",
      "Epoch 37/200\n",
      "1/1 - 0s - loss: 1.8197 - accuracy: 0.3636 - 3ms/epoch - 3ms/step\n",
      "Epoch 38/200\n",
      "1/1 - 0s - loss: 1.7985 - accuracy: 0.3636 - 4ms/epoch - 4ms/step\n",
      "Epoch 39/200\n",
      "1/1 - 0s - loss: 1.7780 - accuracy: 0.3636 - 2ms/epoch - 2ms/step\n",
      "Epoch 40/200\n",
      "1/1 - 0s - loss: 1.7581 - accuracy: 0.3636 - 2ms/epoch - 2ms/step\n",
      "Epoch 41/200\n",
      "1/1 - 0s - loss: 1.7386 - accuracy: 0.3636 - 4ms/epoch - 4ms/step\n",
      "Epoch 42/200\n",
      "1/1 - 0s - loss: 1.7195 - accuracy: 0.3636 - 3ms/epoch - 3ms/step\n",
      "Epoch 43/200\n",
      "1/1 - 0s - loss: 1.7008 - accuracy: 0.3636 - 4ms/epoch - 4ms/step\n",
      "Epoch 44/200\n",
      "1/1 - 0s - loss: 1.6823 - accuracy: 0.3636 - 3ms/epoch - 3ms/step\n",
      "Epoch 45/200\n",
      "1/1 - 0s - loss: 1.6641 - accuracy: 0.3636 - 5ms/epoch - 5ms/step\n",
      "Epoch 46/200\n",
      "1/1 - 0s - loss: 1.6462 - accuracy: 0.3636 - 2ms/epoch - 2ms/step\n",
      "Epoch 47/200\n",
      "1/1 - 0s - loss: 1.6285 - accuracy: 0.3636 - 2ms/epoch - 2ms/step\n",
      "Epoch 48/200\n",
      "1/1 - 0s - loss: 1.6110 - accuracy: 0.3636 - 2ms/epoch - 2ms/step\n",
      "Epoch 49/200\n",
      "1/1 - 0s - loss: 1.5937 - accuracy: 0.3636 - 3ms/epoch - 3ms/step\n",
      "Epoch 50/200\n",
      "1/1 - 0s - loss: 1.5765 - accuracy: 0.4545 - 2ms/epoch - 2ms/step\n",
      "Epoch 51/200\n",
      "1/1 - 0s - loss: 1.5596 - accuracy: 0.5455 - 3ms/epoch - 3ms/step\n",
      "Epoch 52/200\n",
      "1/1 - 0s - loss: 1.5428 - accuracy: 0.5455 - 2ms/epoch - 2ms/step\n",
      "Epoch 53/200\n",
      "1/1 - 0s - loss: 1.5262 - accuracy: 0.5455 - 2ms/epoch - 2ms/step\n",
      "Epoch 54/200\n",
      "1/1 - 0s - loss: 1.5097 - accuracy: 0.5455 - 2ms/epoch - 2ms/step\n",
      "Epoch 55/200\n",
      "1/1 - 0s - loss: 1.4934 - accuracy: 0.5455 - 3ms/epoch - 3ms/step\n",
      "Epoch 56/200\n",
      "1/1 - 0s - loss: 1.4773 - accuracy: 0.5455 - 3ms/epoch - 3ms/step\n",
      "Epoch 57/200\n",
      "1/1 - 0s - loss: 1.4613 - accuracy: 0.5455 - 2ms/epoch - 2ms/step\n",
      "Epoch 58/200\n",
      "1/1 - 0s - loss: 1.4454 - accuracy: 0.5455 - 2ms/epoch - 2ms/step\n",
      "Epoch 59/200\n",
      "1/1 - 0s - loss: 1.4297 - accuracy: 0.5455 - 4ms/epoch - 4ms/step\n",
      "Epoch 60/200\n",
      "1/1 - 0s - loss: 1.4141 - accuracy: 0.5455 - 4ms/epoch - 4ms/step\n",
      "Epoch 61/200\n",
      "1/1 - 0s - loss: 1.3984 - accuracy: 0.5455 - 2ms/epoch - 2ms/step\n",
      "Epoch 62/200\n",
      "1/1 - 0s - loss: 1.3828 - accuracy: 0.5455 - 3ms/epoch - 3ms/step\n",
      "Epoch 63/200\n",
      "1/1 - 0s - loss: 1.3671 - accuracy: 0.5455 - 3ms/epoch - 3ms/step\n",
      "Epoch 64/200\n",
      "1/1 - 0s - loss: 1.3514 - accuracy: 0.5455 - 2ms/epoch - 2ms/step\n",
      "Epoch 65/200\n",
      "1/1 - 0s - loss: 1.3356 - accuracy: 0.5455 - 2ms/epoch - 2ms/step\n",
      "Epoch 66/200\n",
      "1/1 - 0s - loss: 1.3198 - accuracy: 0.5455 - 1ms/epoch - 1ms/step\n",
      "Epoch 67/200\n",
      "1/1 - 0s - loss: 1.3040 - accuracy: 0.5455 - 2ms/epoch - 2ms/step\n",
      "Epoch 68/200\n",
      "1/1 - 0s - loss: 1.2882 - accuracy: 0.5455 - 2ms/epoch - 2ms/step\n",
      "Epoch 69/200\n",
      "1/1 - 0s - loss: 1.2724 - accuracy: 0.5455 - 2ms/epoch - 2ms/step\n",
      "Epoch 70/200\n",
      "1/1 - 0s - loss: 1.2566 - accuracy: 0.5455 - 3ms/epoch - 3ms/step\n",
      "Epoch 71/200\n",
      "1/1 - 0s - loss: 1.2409 - accuracy: 0.5455 - 2ms/epoch - 2ms/step\n",
      "Epoch 72/200\n",
      "1/1 - 0s - loss: 1.2251 - accuracy: 0.5455 - 3ms/epoch - 3ms/step\n",
      "Epoch 73/200\n",
      "1/1 - 0s - loss: 1.2094 - accuracy: 0.5455 - 3ms/epoch - 3ms/step\n",
      "Epoch 74/200\n",
      "1/1 - 0s - loss: 1.1937 - accuracy: 0.5455 - 2ms/epoch - 2ms/step\n",
      "Epoch 75/200\n",
      "1/1 - 0s - loss: 1.1779 - accuracy: 0.5455 - 2ms/epoch - 2ms/step\n",
      "Epoch 76/200\n",
      "1/1 - 0s - loss: 1.1622 - accuracy: 0.5455 - 2ms/epoch - 2ms/step\n",
      "Epoch 77/200\n",
      "1/1 - 0s - loss: 1.1465 - accuracy: 0.6364 - 3ms/epoch - 3ms/step\n",
      "Epoch 78/200\n",
      "1/1 - 0s - loss: 1.1307 - accuracy: 0.6364 - 3ms/epoch - 3ms/step\n",
      "Epoch 79/200\n",
      "1/1 - 0s - loss: 1.1149 - accuracy: 0.6364 - 2ms/epoch - 2ms/step\n",
      "Epoch 80/200\n",
      "1/1 - 0s - loss: 1.0992 - accuracy: 0.6364 - 2ms/epoch - 2ms/step\n",
      "Epoch 81/200\n",
      "1/1 - 0s - loss: 1.0834 - accuracy: 0.6364 - 2ms/epoch - 2ms/step\n",
      "Epoch 82/200\n",
      "1/1 - 0s - loss: 1.0675 - accuracy: 0.6364 - 3ms/epoch - 3ms/step\n",
      "Epoch 83/200\n",
      "1/1 - 0s - loss: 1.0517 - accuracy: 0.6364 - 1ms/epoch - 1ms/step\n",
      "Epoch 84/200\n",
      "1/1 - 0s - loss: 1.0359 - accuracy: 0.6364 - 2ms/epoch - 2ms/step\n",
      "Epoch 85/200\n",
      "1/1 - 0s - loss: 1.0200 - accuracy: 0.6364 - 3ms/epoch - 3ms/step\n",
      "Epoch 86/200\n",
      "1/1 - 0s - loss: 1.0042 - accuracy: 0.6364 - 4ms/epoch - 4ms/step\n",
      "Epoch 87/200\n",
      "1/1 - 0s - loss: 0.9883 - accuracy: 0.7273 - 1ms/epoch - 1ms/step\n",
      "Epoch 88/200\n",
      "1/1 - 0s - loss: 0.9725 - accuracy: 0.7273 - 1ms/epoch - 1ms/step\n",
      "Epoch 89/200\n",
      "1/1 - 0s - loss: 0.9567 - accuracy: 0.7273 - 3ms/epoch - 3ms/step\n",
      "Epoch 90/200\n",
      "1/1 - 0s - loss: 0.9410 - accuracy: 0.7273 - 3ms/epoch - 3ms/step\n",
      "Epoch 91/200\n",
      "1/1 - 0s - loss: 0.9252 - accuracy: 0.7273 - 3ms/epoch - 3ms/step\n",
      "Epoch 92/200\n",
      "1/1 - 0s - loss: 0.9096 - accuracy: 0.7273 - 3ms/epoch - 3ms/step\n",
      "Epoch 93/200\n"
     ]
    },
    {
     "name": "stdout",
     "output_type": "stream",
     "text": [
      "1/1 - 0s - loss: 0.8940 - accuracy: 0.7273 - 3ms/epoch - 3ms/step\n",
      "Epoch 94/200\n",
      "1/1 - 0s - loss: 0.8784 - accuracy: 0.7273 - 2ms/epoch - 2ms/step\n",
      "Epoch 95/200\n",
      "1/1 - 0s - loss: 0.8630 - accuracy: 0.7273 - 3ms/epoch - 3ms/step\n",
      "Epoch 96/200\n",
      "1/1 - 0s - loss: 0.8477 - accuracy: 0.7273 - 2ms/epoch - 2ms/step\n",
      "Epoch 97/200\n",
      "1/1 - 0s - loss: 0.8325 - accuracy: 0.7273 - 4ms/epoch - 4ms/step\n",
      "Epoch 98/200\n",
      "1/1 - 0s - loss: 0.8175 - accuracy: 0.7273 - 2ms/epoch - 2ms/step\n",
      "Epoch 99/200\n",
      "1/1 - 0s - loss: 0.8027 - accuracy: 0.7273 - 2ms/epoch - 2ms/step\n",
      "Epoch 100/200\n",
      "1/1 - 0s - loss: 0.7880 - accuracy: 0.7273 - 3ms/epoch - 3ms/step\n",
      "Epoch 101/200\n",
      "1/1 - 0s - loss: 0.7735 - accuracy: 0.8182 - 2ms/epoch - 2ms/step\n",
      "Epoch 102/200\n",
      "1/1 - 0s - loss: 0.7593 - accuracy: 0.8182 - 2ms/epoch - 2ms/step\n",
      "Epoch 103/200\n",
      "1/1 - 0s - loss: 0.7452 - accuracy: 0.8182 - 2ms/epoch - 2ms/step\n",
      "Epoch 104/200\n",
      "1/1 - 0s - loss: 0.7314 - accuracy: 0.8182 - 3ms/epoch - 3ms/step\n",
      "Epoch 105/200\n",
      "1/1 - 0s - loss: 0.7178 - accuracy: 0.8182 - 2ms/epoch - 2ms/step\n",
      "Epoch 106/200\n",
      "1/1 - 0s - loss: 0.7045 - accuracy: 0.8182 - 2ms/epoch - 2ms/step\n",
      "Epoch 107/200\n",
      "1/1 - 0s - loss: 0.6915 - accuracy: 0.8182 - 2ms/epoch - 2ms/step\n",
      "Epoch 108/200\n",
      "1/1 - 0s - loss: 0.6786 - accuracy: 0.8182 - 3ms/epoch - 3ms/step\n",
      "Epoch 109/200\n",
      "1/1 - 0s - loss: 0.6661 - accuracy: 0.8182 - 3ms/epoch - 3ms/step\n",
      "Epoch 110/200\n",
      "1/1 - 0s - loss: 0.6538 - accuracy: 0.8182 - 1ms/epoch - 1ms/step\n",
      "Epoch 111/200\n",
      "1/1 - 0s - loss: 0.6417 - accuracy: 0.8182 - 4ms/epoch - 4ms/step\n",
      "Epoch 112/200\n",
      "1/1 - 0s - loss: 0.6300 - accuracy: 0.8182 - 3ms/epoch - 3ms/step\n",
      "Epoch 113/200\n",
      "1/1 - 0s - loss: 0.6184 - accuracy: 0.8182 - 3ms/epoch - 3ms/step\n",
      "Epoch 114/200\n",
      "1/1 - 0s - loss: 0.6071 - accuracy: 0.8182 - 2ms/epoch - 2ms/step\n",
      "Epoch 115/200\n",
      "1/1 - 0s - loss: 0.5961 - accuracy: 0.8182 - 1ms/epoch - 1ms/step\n",
      "Epoch 116/200\n",
      "1/1 - 0s - loss: 0.5853 - accuracy: 0.8182 - 4ms/epoch - 4ms/step\n",
      "Epoch 117/200\n",
      "1/1 - 0s - loss: 0.5747 - accuracy: 0.8182 - 2ms/epoch - 2ms/step\n",
      "Epoch 118/200\n",
      "1/1 - 0s - loss: 0.5644 - accuracy: 0.8182 - 2ms/epoch - 2ms/step\n",
      "Epoch 119/200\n",
      "1/1 - 0s - loss: 0.5543 - accuracy: 0.8182 - 3ms/epoch - 3ms/step\n",
      "Epoch 120/200\n",
      "1/1 - 0s - loss: 0.5444 - accuracy: 0.8182 - 2ms/epoch - 2ms/step\n",
      "Epoch 121/200\n",
      "1/1 - 0s - loss: 0.5348 - accuracy: 0.8182 - 2ms/epoch - 2ms/step\n",
      "Epoch 122/200\n",
      "1/1 - 0s - loss: 0.5253 - accuracy: 0.8182 - 2ms/epoch - 2ms/step\n",
      "Epoch 123/200\n",
      "1/1 - 0s - loss: 0.5161 - accuracy: 0.8182 - 3ms/epoch - 3ms/step\n",
      "Epoch 124/200\n",
      "1/1 - 0s - loss: 0.5071 - accuracy: 0.8182 - 3ms/epoch - 3ms/step\n",
      "Epoch 125/200\n",
      "1/1 - 0s - loss: 0.4982 - accuracy: 0.8182 - 2ms/epoch - 2ms/step\n",
      "Epoch 126/200\n",
      "1/1 - 0s - loss: 0.4896 - accuracy: 0.8182 - 2ms/epoch - 2ms/step\n",
      "Epoch 127/200\n",
      "1/1 - 0s - loss: 0.4812 - accuracy: 0.8182 - 3ms/epoch - 3ms/step\n",
      "Epoch 128/200\n",
      "1/1 - 0s - loss: 0.4729 - accuracy: 0.8182 - 2ms/epoch - 2ms/step\n",
      "Epoch 129/200\n",
      "1/1 - 0s - loss: 0.4648 - accuracy: 0.8182 - 3ms/epoch - 3ms/step\n",
      "Epoch 130/200\n",
      "1/1 - 0s - loss: 0.4569 - accuracy: 0.9091 - 4ms/epoch - 4ms/step\n",
      "Epoch 131/200\n",
      "1/1 - 0s - loss: 0.4491 - accuracy: 1.0000 - 3ms/epoch - 3ms/step\n",
      "Epoch 132/200\n",
      "1/1 - 0s - loss: 0.4415 - accuracy: 1.0000 - 2ms/epoch - 2ms/step\n",
      "Epoch 133/200\n",
      "1/1 - 0s - loss: 0.4340 - accuracy: 1.0000 - 2ms/epoch - 2ms/step\n",
      "Epoch 134/200\n",
      "1/1 - 0s - loss: 0.4267 - accuracy: 1.0000 - 2ms/epoch - 2ms/step\n",
      "Epoch 135/200\n",
      "1/1 - 0s - loss: 0.4196 - accuracy: 1.0000 - 1ms/epoch - 1ms/step\n",
      "Epoch 136/200\n",
      "1/1 - 0s - loss: 0.4126 - accuracy: 1.0000 - 998us/epoch - 998us/step\n",
      "Epoch 137/200\n",
      "1/1 - 0s - loss: 0.4057 - accuracy: 1.0000 - 998us/epoch - 998us/step\n",
      "Epoch 138/200\n",
      "1/1 - 0s - loss: 0.3989 - accuracy: 1.0000 - 1ms/epoch - 1ms/step\n",
      "Epoch 139/200\n",
      "1/1 - 0s - loss: 0.3923 - accuracy: 1.0000 - 3ms/epoch - 3ms/step\n",
      "Epoch 140/200\n",
      "1/1 - 0s - loss: 0.3858 - accuracy: 1.0000 - 2ms/epoch - 2ms/step\n",
      "Epoch 141/200\n",
      "1/1 - 0s - loss: 0.3794 - accuracy: 1.0000 - 3ms/epoch - 3ms/step\n",
      "Epoch 142/200\n",
      "1/1 - 0s - loss: 0.3731 - accuracy: 1.0000 - 2ms/epoch - 2ms/step\n",
      "Epoch 143/200\n",
      "1/1 - 0s - loss: 0.3669 - accuracy: 1.0000 - 3ms/epoch - 3ms/step\n",
      "Epoch 144/200\n",
      "1/1 - 0s - loss: 0.3609 - accuracy: 1.0000 - 2ms/epoch - 2ms/step\n",
      "Epoch 145/200\n",
      "1/1 - 0s - loss: 0.3549 - accuracy: 1.0000 - 2ms/epoch - 2ms/step\n",
      "Epoch 146/200\n",
      "1/1 - 0s - loss: 0.3490 - accuracy: 1.0000 - 5ms/epoch - 5ms/step\n",
      "Epoch 147/200\n",
      "1/1 - 0s - loss: 0.3432 - accuracy: 1.0000 - 3ms/epoch - 3ms/step\n",
      "Epoch 148/200\n",
      "1/1 - 0s - loss: 0.3375 - accuracy: 1.0000 - 1ms/epoch - 1ms/step\n",
      "Epoch 149/200\n",
      "1/1 - 0s - loss: 0.3319 - accuracy: 1.0000 - 3ms/epoch - 3ms/step\n",
      "Epoch 150/200\n",
      "1/1 - 0s - loss: 0.3264 - accuracy: 1.0000 - 5ms/epoch - 5ms/step\n",
      "Epoch 151/200\n",
      "1/1 - 0s - loss: 0.3210 - accuracy: 1.0000 - 2ms/epoch - 2ms/step\n",
      "Epoch 152/200\n",
      "1/1 - 0s - loss: 0.3156 - accuracy: 1.0000 - 2ms/epoch - 2ms/step\n",
      "Epoch 153/200\n",
      "1/1 - 0s - loss: 0.3103 - accuracy: 1.0000 - 2ms/epoch - 2ms/step\n",
      "Epoch 154/200\n",
      "1/1 - 0s - loss: 0.3051 - accuracy: 1.0000 - 3ms/epoch - 3ms/step\n",
      "Epoch 155/200\n",
      "1/1 - 0s - loss: 0.3000 - accuracy: 1.0000 - 3ms/epoch - 3ms/step\n",
      "Epoch 156/200\n",
      "1/1 - 0s - loss: 0.2949 - accuracy: 1.0000 - 1ms/epoch - 1ms/step\n",
      "Epoch 157/200\n",
      "1/1 - 0s - loss: 0.2899 - accuracy: 1.0000 - 3ms/epoch - 3ms/step\n",
      "Epoch 158/200\n",
      "1/1 - 0s - loss: 0.2850 - accuracy: 1.0000 - 3ms/epoch - 3ms/step\n",
      "Epoch 159/200\n",
      "1/1 - 0s - loss: 0.2801 - accuracy: 1.0000 - 2ms/epoch - 2ms/step\n",
      "Epoch 160/200\n",
      "1/1 - 0s - loss: 0.2753 - accuracy: 1.0000 - 1ms/epoch - 1ms/step\n",
      "Epoch 161/200\n",
      "1/1 - 0s - loss: 0.2706 - accuracy: 1.0000 - 2ms/epoch - 2ms/step\n",
      "Epoch 162/200\n",
      "1/1 - 0s - loss: 0.2659 - accuracy: 1.0000 - 2ms/epoch - 2ms/step\n",
      "Epoch 163/200\n",
      "1/1 - 0s - loss: 0.2613 - accuracy: 1.0000 - 2ms/epoch - 2ms/step\n",
      "Epoch 164/200\n",
      "1/1 - 0s - loss: 0.2567 - accuracy: 1.0000 - 2ms/epoch - 2ms/step\n",
      "Epoch 165/200\n",
      "1/1 - 0s - loss: 0.2522 - accuracy: 1.0000 - 4ms/epoch - 4ms/step\n",
      "Epoch 166/200\n",
      "1/1 - 0s - loss: 0.2478 - accuracy: 1.0000 - 4ms/epoch - 4ms/step\n",
      "Epoch 167/200\n",
      "1/1 - 0s - loss: 0.2434 - accuracy: 1.0000 - 3ms/epoch - 3ms/step\n",
      "Epoch 168/200\n",
      "1/1 - 0s - loss: 0.2391 - accuracy: 1.0000 - 2ms/epoch - 2ms/step\n",
      "Epoch 169/200\n",
      "1/1 - 0s - loss: 0.2348 - accuracy: 1.0000 - 3ms/epoch - 3ms/step\n",
      "Epoch 170/200\n",
      "1/1 - 0s - loss: 0.2306 - accuracy: 1.0000 - 4ms/epoch - 4ms/step\n",
      "Epoch 171/200\n",
      "1/1 - 0s - loss: 0.2264 - accuracy: 1.0000 - 2ms/epoch - 2ms/step\n",
      "Epoch 172/200\n",
      "1/1 - 0s - loss: 0.2223 - accuracy: 1.0000 - 1ms/epoch - 1ms/step\n",
      "Epoch 173/200\n",
      "1/1 - 0s - loss: 0.2182 - accuracy: 1.0000 - 1ms/epoch - 1ms/step\n",
      "Epoch 174/200\n",
      "1/1 - 0s - loss: 0.2142 - accuracy: 1.0000 - 4ms/epoch - 4ms/step\n",
      "Epoch 175/200\n",
      "1/1 - 0s - loss: 0.2102 - accuracy: 1.0000 - 3ms/epoch - 3ms/step\n",
      "Epoch 176/200\n",
      "1/1 - 0s - loss: 0.2063 - accuracy: 1.0000 - 2ms/epoch - 2ms/step\n",
      "Epoch 177/200\n",
      "1/1 - 0s - loss: 0.2025 - accuracy: 1.0000 - 2ms/epoch - 2ms/step\n",
      "Epoch 178/200\n",
      "1/1 - 0s - loss: 0.1987 - accuracy: 1.0000 - 3ms/epoch - 3ms/step\n",
      "Epoch 179/200\n",
      "1/1 - 0s - loss: 0.1949 - accuracy: 1.0000 - 2ms/epoch - 2ms/step\n",
      "Epoch 180/200\n",
      "1/1 - 0s - loss: 0.1913 - accuracy: 1.0000 - 2ms/epoch - 2ms/step\n",
      "Epoch 181/200\n",
      "1/1 - 0s - loss: 0.1876 - accuracy: 1.0000 - 2ms/epoch - 2ms/step\n",
      "Epoch 182/200\n",
      "1/1 - 0s - loss: 0.1840 - accuracy: 1.0000 - 3ms/epoch - 3ms/step\n",
      "Epoch 183/200\n",
      "1/1 - 0s - loss: 0.1805 - accuracy: 1.0000 - 1ms/epoch - 1ms/step\n",
      "Epoch 184/200\n",
      "1/1 - 0s - loss: 0.1771 - accuracy: 1.0000 - 2ms/epoch - 2ms/step\n",
      "Epoch 185/200\n",
      "1/1 - 0s - loss: 0.1737 - accuracy: 1.0000 - 2ms/epoch - 2ms/step\n",
      "Epoch 186/200\n",
      "1/1 - 0s - loss: 0.1703 - accuracy: 1.0000 - 4ms/epoch - 4ms/step\n",
      "Epoch 187/200\n",
      "1/1 - 0s - loss: 0.1670 - accuracy: 1.0000 - 2ms/epoch - 2ms/step\n",
      "Epoch 188/200\n",
      "1/1 - 0s - loss: 0.1638 - accuracy: 1.0000 - 4ms/epoch - 4ms/step\n",
      "Epoch 189/200\n",
      "1/1 - 0s - loss: 0.1606 - accuracy: 1.0000 - 2ms/epoch - 2ms/step\n",
      "Epoch 190/200\n",
      "1/1 - 0s - loss: 0.1575 - accuracy: 1.0000 - 2ms/epoch - 2ms/step\n",
      "Epoch 191/200\n",
      "1/1 - 0s - loss: 0.1544 - accuracy: 1.0000 - 2ms/epoch - 2ms/step\n",
      "Epoch 192/200\n",
      "1/1 - 0s - loss: 0.1514 - accuracy: 1.0000 - 1ms/epoch - 1ms/step\n",
      "Epoch 193/200\n",
      "1/1 - 0s - loss: 0.1484 - accuracy: 1.0000 - 2ms/epoch - 2ms/step\n",
      "Epoch 194/200\n",
      "1/1 - 0s - loss: 0.1455 - accuracy: 1.0000 - 4ms/epoch - 4ms/step\n",
      "Epoch 195/200\n",
      "1/1 - 0s - loss: 0.1427 - accuracy: 1.0000 - 3ms/epoch - 3ms/step\n"
     ]
    },
    {
     "name": "stdout",
     "output_type": "stream",
     "text": [
      "Epoch 196/200\n",
      "1/1 - 0s - loss: 0.1399 - accuracy: 1.0000 - 4ms/epoch - 4ms/step\n",
      "Epoch 197/200\n",
      "1/1 - 0s - loss: 0.1372 - accuracy: 1.0000 - 2ms/epoch - 2ms/step\n",
      "Epoch 198/200\n",
      "1/1 - 0s - loss: 0.1345 - accuracy: 1.0000 - 9ms/epoch - 9ms/step\n",
      "Epoch 199/200\n",
      "1/1 - 0s - loss: 0.1319 - accuracy: 1.0000 - 2ms/epoch - 2ms/step\n",
      "Epoch 200/200\n",
      "1/1 - 0s - loss: 0.1294 - accuracy: 1.0000 - 3ms/epoch - 3ms/step\n"
     ]
    },
    {
     "data": {
      "text/plain": [
       "<keras.callbacks.History at 0x1bc41a42b88>"
      ]
     },
     "execution_count": 88,
     "metadata": {},
     "output_type": "execute_result"
    }
   ],
   "source": [
    "model.compile(loss='categorical_crossentropy', optimizer='adam', metrics=['accuracy'])\n",
    "model.fit(X, y, epochs=200, verbose=2)"
   ]
  },
  {
   "cell_type": "code",
   "execution_count": 90,
   "id": "d49964f4",
   "metadata": {
    "scrolled": false
   },
   "outputs": [
    {
     "name": "stdout",
     "output_type": "stream",
     "text": [
      "경마장에 있는 말이 뛰고 있다\n",
      "그의 말이 법이다\n",
      "가는 말이 고와야 오는 말이 곱다\n"
     ]
    }
   ],
   "source": [
    "def sentence_generation(model, t, current_word, n):   # 모델, 토크나이저, 현재 단어, 반복할 횟수\n",
    "    init_word = current_word   # 처음 들어온 단어도 마지막에 같이 출력하기 위해 저장\n",
    "    sentence = ''\n",
    "    \n",
    "    for _ in range(n):\n",
    "        encoded = t.texts_to_sequences([current_word])[0]   # 현재 단어에 대한 정수 인코딩\n",
    "        encoded = pad_sequences([encoded], maxlen=5, padding='pre')   # 데이터에 대한 패딩\n",
    "        \n",
    "        # result = model.predict_classes(encoded, verbose=0)\n",
    "        # 버전 변경으로 수정 필요!!\n",
    "        temp = model.predict(encoded, verbose=0)\n",
    "        result = np.argmax(temp, axis=-1)\n",
    "        \n",
    "        for word, index in t.word_index.items():\n",
    "            if index == result:\n",
    "                break\n",
    "            # 만약 예측한 단어의 인덱스와 동일한 단어가 있다면, 해당 단어가 예측 단어이므로 break\n",
    "                \n",
    "        current_word = current_word + ' ' + word   # 현재 단어+''+예측단어를 현재 단어로 변경\n",
    "        sentence = sentence + ' ' + word   # 예측 단어를 문장에 저장\n",
    "        \n",
    "    sentence = init_word + sentence\n",
    "    return sentence\n",
    "\n",
    "print(sentence_generation(model, t, '경마장에', 4))\n",
    "print(sentence_generation(model, t, '그의', 2))\n",
    "print(sentence_generation(model, t, '가는', 5))"
   ]
  },
  {
   "cell_type": "markdown",
   "id": "2930ec10",
   "metadata": {},
   "source": [
    "---\n",
    "## LSTM을 이용하여 텍스트 생성하기"
   ]
  },
  {
   "cell_type": "markdown",
   "id": "c538a1bd",
   "metadata": {},
   "source": [
    "### 1. 데이터에 대한 이해와 전처리"
   ]
  },
  {
   "cell_type": "code",
   "execution_count": 118,
   "id": "aa423818",
   "metadata": {
    "scrolled": true
   },
   "outputs": [
    {
     "data": {
      "text/html": [
       "<div>\n",
       "<style scoped>\n",
       "    .dataframe tbody tr th:only-of-type {\n",
       "        vertical-align: middle;\n",
       "    }\n",
       "\n",
       "    .dataframe tbody tr th {\n",
       "        vertical-align: top;\n",
       "    }\n",
       "\n",
       "    .dataframe thead th {\n",
       "        text-align: right;\n",
       "    }\n",
       "</style>\n",
       "<table border=\"1\" class=\"dataframe\">\n",
       "  <thead>\n",
       "    <tr style=\"text-align: right;\">\n",
       "      <th></th>\n",
       "      <th>articleID</th>\n",
       "      <th>articleWordCount</th>\n",
       "      <th>byline</th>\n",
       "      <th>documentType</th>\n",
       "      <th>headline</th>\n",
       "      <th>keywords</th>\n",
       "      <th>multimedia</th>\n",
       "      <th>newDesk</th>\n",
       "      <th>printPage</th>\n",
       "      <th>pubDate</th>\n",
       "      <th>sectionName</th>\n",
       "      <th>snippet</th>\n",
       "      <th>source</th>\n",
       "      <th>typeOfMaterial</th>\n",
       "      <th>webURL</th>\n",
       "    </tr>\n",
       "  </thead>\n",
       "  <tbody>\n",
       "    <tr>\n",
       "      <th>0</th>\n",
       "      <td>5adf6684068401528a2aa69b</td>\n",
       "      <td>781</td>\n",
       "      <td>By JOHN BRANCH</td>\n",
       "      <td>article</td>\n",
       "      <td>Former N.F.L. Cheerleaders’ Settlement Offer: ...</td>\n",
       "      <td>['Workplace Hazards and Violations', 'Football...</td>\n",
       "      <td>68</td>\n",
       "      <td>Sports</td>\n",
       "      <td>0</td>\n",
       "      <td>2018-04-24 17:16:49</td>\n",
       "      <td>Pro Football</td>\n",
       "      <td>“I understand that they could meet with us, pa...</td>\n",
       "      <td>The New York Times</td>\n",
       "      <td>News</td>\n",
       "      <td>https://www.nytimes.com/2018/04/24/sports/foot...</td>\n",
       "    </tr>\n",
       "    <tr>\n",
       "      <th>1</th>\n",
       "      <td>5adf653f068401528a2aa697</td>\n",
       "      <td>656</td>\n",
       "      <td>By LISA FRIEDMAN</td>\n",
       "      <td>article</td>\n",
       "      <td>E.P.A. to Unveil a New Rule. Its Effect: Less ...</td>\n",
       "      <td>['Environmental Protection Agency', 'Pruitt, S...</td>\n",
       "      <td>68</td>\n",
       "      <td>Climate</td>\n",
       "      <td>0</td>\n",
       "      <td>2018-04-24 17:11:21</td>\n",
       "      <td>Unknown</td>\n",
       "      <td>The agency plans to publish a new regulation T...</td>\n",
       "      <td>The New York Times</td>\n",
       "      <td>News</td>\n",
       "      <td>https://www.nytimes.com/2018/04/24/climate/epa...</td>\n",
       "    </tr>\n",
       "    <tr>\n",
       "      <th>2</th>\n",
       "      <td>5adf4626068401528a2aa628</td>\n",
       "      <td>2427</td>\n",
       "      <td>By PETE WELLS</td>\n",
       "      <td>article</td>\n",
       "      <td>The New Noma, Explained</td>\n",
       "      <td>['Restaurants', 'Noma (Copenhagen, Restaurant)...</td>\n",
       "      <td>66</td>\n",
       "      <td>Dining</td>\n",
       "      <td>0</td>\n",
       "      <td>2018-04-24 14:58:44</td>\n",
       "      <td>Unknown</td>\n",
       "      <td>What’s it like to eat at the second incarnatio...</td>\n",
       "      <td>The New York Times</td>\n",
       "      <td>News</td>\n",
       "      <td>https://www.nytimes.com/2018/04/24/dining/noma...</td>\n",
       "    </tr>\n",
       "    <tr>\n",
       "      <th>3</th>\n",
       "      <td>5adf40d2068401528a2aa619</td>\n",
       "      <td>626</td>\n",
       "      <td>By JULIE HIRSCHFELD DAVIS and PETER BAKER</td>\n",
       "      <td>article</td>\n",
       "      <td>Unknown</td>\n",
       "      <td>['Macron, Emmanuel (1977- )', 'Trump, Donald J...</td>\n",
       "      <td>68</td>\n",
       "      <td>Washington</td>\n",
       "      <td>0</td>\n",
       "      <td>2018-04-24 14:35:57</td>\n",
       "      <td>Europe</td>\n",
       "      <td>President Trump welcomed President Emmanuel Ma...</td>\n",
       "      <td>The New York Times</td>\n",
       "      <td>News</td>\n",
       "      <td>https://www.nytimes.com/2018/04/24/world/europ...</td>\n",
       "    </tr>\n",
       "    <tr>\n",
       "      <th>4</th>\n",
       "      <td>5adf3d64068401528a2aa60f</td>\n",
       "      <td>815</td>\n",
       "      <td>By IAN AUSTEN and DAN BILEFSKY</td>\n",
       "      <td>article</td>\n",
       "      <td>Unknown</td>\n",
       "      <td>['Toronto, Ontario, Attack (April, 2018)', 'Mu...</td>\n",
       "      <td>68</td>\n",
       "      <td>Foreign</td>\n",
       "      <td>0</td>\n",
       "      <td>2018-04-24 14:21:21</td>\n",
       "      <td>Canada</td>\n",
       "      <td>Alek Minassian, 25, a resident of Toronto’s Ri...</td>\n",
       "      <td>The New York Times</td>\n",
       "      <td>News</td>\n",
       "      <td>https://www.nytimes.com/2018/04/24/world/canad...</td>\n",
       "    </tr>\n",
       "  </tbody>\n",
       "</table>\n",
       "</div>"
      ],
      "text/plain": [
       "                  articleID  articleWordCount  \\\n",
       "0  5adf6684068401528a2aa69b               781   \n",
       "1  5adf653f068401528a2aa697               656   \n",
       "2  5adf4626068401528a2aa628              2427   \n",
       "3  5adf40d2068401528a2aa619               626   \n",
       "4  5adf3d64068401528a2aa60f               815   \n",
       "\n",
       "                                      byline documentType  \\\n",
       "0                             By JOHN BRANCH      article   \n",
       "1                           By LISA FRIEDMAN      article   \n",
       "2                              By PETE WELLS      article   \n",
       "3  By JULIE HIRSCHFELD DAVIS and PETER BAKER      article   \n",
       "4             By IAN AUSTEN and DAN BILEFSKY      article   \n",
       "\n",
       "                                            headline  \\\n",
       "0  Former N.F.L. Cheerleaders’ Settlement Offer: ...   \n",
       "1  E.P.A. to Unveil a New Rule. Its Effect: Less ...   \n",
       "2                            The New Noma, Explained   \n",
       "3                                            Unknown   \n",
       "4                                            Unknown   \n",
       "\n",
       "                                            keywords  multimedia     newDesk  \\\n",
       "0  ['Workplace Hazards and Violations', 'Football...          68      Sports   \n",
       "1  ['Environmental Protection Agency', 'Pruitt, S...          68     Climate   \n",
       "2  ['Restaurants', 'Noma (Copenhagen, Restaurant)...          66      Dining   \n",
       "3  ['Macron, Emmanuel (1977- )', 'Trump, Donald J...          68  Washington   \n",
       "4  ['Toronto, Ontario, Attack (April, 2018)', 'Mu...          68     Foreign   \n",
       "\n",
       "   printPage              pubDate   sectionName  \\\n",
       "0          0  2018-04-24 17:16:49  Pro Football   \n",
       "1          0  2018-04-24 17:11:21       Unknown   \n",
       "2          0  2018-04-24 14:58:44       Unknown   \n",
       "3          0  2018-04-24 14:35:57        Europe   \n",
       "4          0  2018-04-24 14:21:21        Canada   \n",
       "\n",
       "                                             snippet              source  \\\n",
       "0  “I understand that they could meet with us, pa...  The New York Times   \n",
       "1  The agency plans to publish a new regulation T...  The New York Times   \n",
       "2  What’s it like to eat at the second incarnatio...  The New York Times   \n",
       "3  President Trump welcomed President Emmanuel Ma...  The New York Times   \n",
       "4  Alek Minassian, 25, a resident of Toronto’s Ri...  The New York Times   \n",
       "\n",
       "  typeOfMaterial                                             webURL  \n",
       "0           News  https://www.nytimes.com/2018/04/24/sports/foot...  \n",
       "1           News  https://www.nytimes.com/2018/04/24/climate/epa...  \n",
       "2           News  https://www.nytimes.com/2018/04/24/dining/noma...  \n",
       "3           News  https://www.nytimes.com/2018/04/24/world/europ...  \n",
       "4           News  https://www.nytimes.com/2018/04/24/world/canad...  "
      ]
     },
     "execution_count": 118,
     "metadata": {},
     "output_type": "execute_result"
    }
   ],
   "source": [
    "import pandas as pd\n",
    "from string import punctuation\n",
    "from tensorflow.keras.preprocessing.text import Tokenizer\n",
    "from tensorflow.keras.preprocessing.sequence import pad_sequences\n",
    "import numpy as np\n",
    "from tensorflow.keras.utils import to_categorical\n",
    "\n",
    "df = pd.read_csv(\"./datasets/ArticlesApril2018.csv\")\n",
    "df.head()"
   ]
  },
  {
   "cell_type": "code",
   "execution_count": 119,
   "id": "ee93530c",
   "metadata": {},
   "outputs": [
    {
     "name": "stdout",
     "output_type": "stream",
     "text": [
      "열의 개수: 15\n"
     ]
    }
   ],
   "source": [
    "print(\"열의 개수:\", len(df.columns))"
   ]
  },
  {
   "cell_type": "code",
   "execution_count": 120,
   "id": "1196e6a8",
   "metadata": {},
   "outputs": [
    {
     "data": {
      "text/plain": [
       "Index(['articleID', 'articleWordCount', 'byline', 'documentType', 'headline',\n",
       "       'keywords', 'multimedia', 'newDesk', 'printPage', 'pubDate',\n",
       "       'sectionName', 'snippet', 'source', 'typeOfMaterial', 'webURL'],\n",
       "      dtype='object')"
      ]
     },
     "execution_count": 120,
     "metadata": {},
     "output_type": "execute_result"
    }
   ],
   "source": [
    "df.columns"
   ]
  },
  {
   "cell_type": "code",
   "execution_count": 121,
   "id": "4cb62f9c",
   "metadata": {},
   "outputs": [
    {
     "data": {
      "text/plain": [
       "False"
      ]
     },
     "execution_count": 121,
     "metadata": {},
     "output_type": "execute_result"
    }
   ],
   "source": [
    "df['headline'].isnull().values.any()"
   ]
  },
  {
   "cell_type": "code",
   "execution_count": 122,
   "id": "347c5686",
   "metadata": {},
   "outputs": [
    {
     "data": {
      "text/plain": [
       "['Former N.F.L. Cheerleaders’ Settlement Offer: $1 and a Meeting With Goodell',\n",
       " 'E.P.A. to Unveil a New Rule. Its Effect: Less Science in Policymaking.',\n",
       " 'The New Noma, Explained',\n",
       " 'Unknown',\n",
       " 'Unknown']"
      ]
     },
     "execution_count": 122,
     "metadata": {},
     "output_type": "execute_result"
    }
   ],
   "source": [
    "headline = []\n",
    "headline.extend(list(df.headline.values))\n",
    "headline[:5]"
   ]
  },
  {
   "cell_type": "code",
   "execution_count": 123,
   "id": "98e05f40",
   "metadata": {},
   "outputs": [
    {
     "name": "stdout",
     "output_type": "stream",
     "text": [
      "총 샘플의 개수: 1324\n"
     ]
    }
   ],
   "source": [
    "print(\"총 샘플의 개수: {}\".format(len(headline)))"
   ]
  },
  {
   "cell_type": "code",
   "execution_count": 124,
   "id": "65b4e3a2",
   "metadata": {},
   "outputs": [
    {
     "name": "stdout",
     "output_type": "stream",
     "text": [
      "노이즈 값 제거 후 샘플의 개수: 1214\n"
     ]
    }
   ],
   "source": [
    "headline = [n for n in headline if n != \"Unknown\"]\n",
    "print(\"노이즈 값 제거 후 샘플의 개수: {}\".format(len(headline)))"
   ]
  },
  {
   "cell_type": "code",
   "execution_count": 125,
   "id": "71d8637a",
   "metadata": {},
   "outputs": [
    {
     "data": {
      "text/plain": [
       "['Former N.F.L. Cheerleaders’ Settlement Offer: $1 and a Meeting With Goodell',\n",
       " 'E.P.A. to Unveil a New Rule. Its Effect: Less Science in Policymaking.',\n",
       " 'The New Noma, Explained',\n",
       " 'How a Bag of Texas Dirt  Became a Times Tradition',\n",
       " 'Is School a Place for Self-Expression?']"
      ]
     },
     "execution_count": 125,
     "metadata": {},
     "output_type": "execute_result"
    }
   ],
   "source": [
    "headline[:5]"
   ]
  },
  {
   "cell_type": "code",
   "execution_count": 140,
   "id": "150bc243",
   "metadata": {},
   "outputs": [
    {
     "data": {
      "text/plain": [
       "'!\"#$%&\\'()*+,-./:;<=>?@[\\\\]^_`{|}~'"
      ]
     },
     "execution_count": 140,
     "metadata": {},
     "output_type": "execute_result"
    }
   ],
   "source": [
    "punctuation\n",
    "\n",
    "# 구두점"
   ]
  },
  {
   "cell_type": "code",
   "execution_count": 126,
   "id": "22c97768",
   "metadata": {},
   "outputs": [
    {
     "data": {
      "text/plain": [
       "['former nfl cheerleaders settlement offer 1 and a meeting with goodell',\n",
       " 'epa to unveil a new rule its effect less science in policymaking',\n",
       " 'the new noma explained',\n",
       " 'how a bag of texas dirt  became a times tradition',\n",
       " 'is school a place for selfexpression']"
      ]
     },
     "execution_count": 126,
     "metadata": {},
     "output_type": "execute_result"
    }
   ],
   "source": [
    "def repreprocessing(s):\n",
    "    s = s.encode(\"utf8\").decode(\"ascii\", 'ignore')\n",
    "    return ''.join(c for c in s if c not in punctuation).lower()\n",
    "\n",
    "text = [repreprocessing(x) for x in headline]\n",
    "text[:5]"
   ]
  },
  {
   "cell_type": "code",
   "execution_count": 127,
   "id": "1f623fb3",
   "metadata": {},
   "outputs": [
    {
     "name": "stdout",
     "output_type": "stream",
     "text": [
      "단어 집합의 크기: 3494\n"
     ]
    }
   ],
   "source": [
    "t = Tokenizer()\n",
    "t.fit_on_texts(text)\n",
    "vocab_size = len(t.word_index) + 1\n",
    "print(\"단어 집합의 크기: %d\" % vocab_size)"
   ]
  },
  {
   "cell_type": "code",
   "execution_count": 128,
   "id": "2eb05fbd",
   "metadata": {},
   "outputs": [
    {
     "data": {
      "text/plain": [
       "[[99, 269],\n",
       " [99, 269, 371],\n",
       " [99, 269, 371, 1115],\n",
       " [99, 269, 371, 1115, 582],\n",
       " [99, 269, 371, 1115, 582, 52],\n",
       " [99, 269, 371, 1115, 582, 52, 7],\n",
       " [99, 269, 371, 1115, 582, 52, 7, 2],\n",
       " [99, 269, 371, 1115, 582, 52, 7, 2, 372],\n",
       " [99, 269, 371, 1115, 582, 52, 7, 2, 372, 10],\n",
       " [99, 269, 371, 1115, 582, 52, 7, 2, 372, 10, 1116],\n",
       " [100, 3]]"
      ]
     },
     "execution_count": 128,
     "metadata": {},
     "output_type": "execute_result"
    }
   ],
   "source": [
    "sequences = list()\n",
    "\n",
    "for line in text:\n",
    "    encoded = t.texts_to_sequences([line])[0]\n",
    "    \n",
    "    for i in range(1, len(encoded)):\n",
    "        sequence = encoded[:i+1]\n",
    "        sequences.append(sequence)\n",
    "        \n",
    "sequences[:11]"
   ]
  },
  {
   "cell_type": "code",
   "execution_count": 146,
   "id": "9ac40822",
   "metadata": {},
   "outputs": [
    {
     "name": "stdout",
     "output_type": "stream",
     "text": [
      "빈도수 상위 582번 단어: offer\n",
      "빈도수 상위 1번 단어: the\n",
      "빈도수 상위 50번 단어: recap\n"
     ]
    }
   ],
   "source": [
    "index_to_word = {}\n",
    "\n",
    "for key, value in t.word_index.items():\n",
    "    index_to_word[value] = key\n",
    "    \n",
    "print(\"빈도수 상위 582번 단어: {}\".format(index_to_word[582]))\n",
    "print(\"빈도수 상위 1번 단어: {}\".format(index_to_word[1]))\n",
    "print(\"빈도수 상위 50번 단어: {}\".format(index_to_word[50]))"
   ]
  },
  {
   "cell_type": "code",
   "execution_count": 145,
   "id": "8e053481",
   "metadata": {},
   "outputs": [
    {
     "name": "stdout",
     "output_type": "stream",
     "text": [
      "샘플의 최대 길이: 24\n"
     ]
    }
   ],
   "source": [
    "max_len = max(len(I) for I in sequences)\n",
    "print(\"샘플의 최대 길이: {}\".format(max_len))"
   ]
  },
  {
   "cell_type": "markdown",
   "id": "bfbac566",
   "metadata": {},
   "source": [
    "##### - 가장 긴 샘플의 길이인 24로 모든 샘플의 길이를 패딩"
   ]
  },
  {
   "cell_type": "code",
   "execution_count": 130,
   "id": "40ac6b7f",
   "metadata": {},
   "outputs": [
    {
     "name": "stdout",
     "output_type": "stream",
     "text": [
      "[[   0    0    0    0    0    0    0    0    0    0    0    0    0    0\n",
      "     0    0    0    0    0    0    0    0   99  269]\n",
      " [   0    0    0    0    0    0    0    0    0    0    0    0    0    0\n",
      "     0    0    0    0    0    0    0   99  269  371]\n",
      " [   0    0    0    0    0    0    0    0    0    0    0    0    0    0\n",
      "     0    0    0    0    0    0   99  269  371 1115]]\n"
     ]
    }
   ],
   "source": [
    "sequences = pad_sequences(sequences, maxlen=max_len, padding='pre')\n",
    "print(sequences[:3])"
   ]
  },
  {
   "cell_type": "code",
   "execution_count": 131,
   "id": "057e4c73",
   "metadata": {},
   "outputs": [
    {
     "data": {
      "text/plain": [
       "array([[  0,   0,   0,   0,   0,   0,   0,   0,   0,   0,   0,   0,   0,\n",
       "          0,   0,   0,   0,   0,   0,   0,   0,   0,  99],\n",
       "       [  0,   0,   0,   0,   0,   0,   0,   0,   0,   0,   0,   0,   0,\n",
       "          0,   0,   0,   0,   0,   0,   0,   0,  99, 269],\n",
       "       [  0,   0,   0,   0,   0,   0,   0,   0,   0,   0,   0,   0,   0,\n",
       "          0,   0,   0,   0,   0,   0,   0,  99, 269, 371]])"
      ]
     },
     "execution_count": 131,
     "metadata": {},
     "output_type": "execute_result"
    }
   ],
   "source": [
    "sequences = np.array(sequences)\n",
    "X = sequences[:, :-1]\n",
    "y = sequences[:, -1]\n",
    "X[:3]"
   ]
  },
  {
   "cell_type": "code",
   "execution_count": 132,
   "id": "7e19624d",
   "metadata": {},
   "outputs": [
    {
     "data": {
      "text/plain": [
       "array([ 269,  371, 1115])"
      ]
     },
     "execution_count": 132,
     "metadata": {},
     "output_type": "execute_result"
    }
   ],
   "source": [
    "y[:3]"
   ]
  },
  {
   "cell_type": "markdown",
   "id": "4f3c9d24",
   "metadata": {},
   "source": [
    "##### - 원-핫 인코딩"
   ]
  },
  {
   "cell_type": "code",
   "execution_count": 133,
   "id": "15a76ae0",
   "metadata": {
    "scrolled": true
   },
   "outputs": [
    {
     "data": {
      "text/plain": [
       "array([[0., 0., 0., ..., 0., 0., 0.],\n",
       "       [0., 0., 0., ..., 0., 0., 0.],\n",
       "       [0., 0., 0., ..., 0., 0., 0.],\n",
       "       ...,\n",
       "       [0., 0., 0., ..., 0., 0., 0.],\n",
       "       [0., 0., 1., ..., 0., 0., 0.],\n",
       "       [0., 0., 0., ..., 0., 0., 0.]], dtype=float32)"
      ]
     },
     "execution_count": 133,
     "metadata": {},
     "output_type": "execute_result"
    }
   ],
   "source": [
    "y = to_categorical(y, num_classes=vocab_size)\n",
    "y"
   ]
  },
  {
   "cell_type": "markdown",
   "id": "70baff5f",
   "metadata": {},
   "source": [
    "### 2. 모델 설계하기"
   ]
  },
  {
   "cell_type": "code",
   "execution_count": 135,
   "id": "8fadb0d5",
   "metadata": {},
   "outputs": [
    {
     "name": "stdout",
     "output_type": "stream",
     "text": [
      "Model: \"sequential_12\"\n",
      "_________________________________________________________________\n",
      " Layer (type)                Output Shape              Param #   \n",
      "=================================================================\n",
      " embedding_8 (Embedding)     (None, 23, 10)            34940     \n",
      "                                                                 \n",
      " lstm (LSTM)                 (None, 128)               71168     \n",
      "                                                                 \n",
      " dense_7 (Dense)             (None, 3494)              450726    \n",
      "                                                                 \n",
      "=================================================================\n",
      "Total params: 556,834\n",
      "Trainable params: 556,834\n",
      "Non-trainable params: 0\n",
      "_________________________________________________________________\n"
     ]
    }
   ],
   "source": [
    "from tensorflow.keras.models import Sequential\n",
    "from tensorflow.keras.layers import Embedding, Dense, LSTM\n",
    "\n",
    "model = Sequential()\n",
    "\n",
    "model.add(Embedding(vocab_size, 10, input_length=max_len-1))\n",
    "model.add(LSTM(128))\n",
    "model.add(Dense(vocab_size, activation='softmax'))\n",
    "model.summary()"
   ]
  },
  {
   "cell_type": "code",
   "execution_count": 136,
   "id": "8b3b0215",
   "metadata": {},
   "outputs": [
    {
     "name": "stdout",
     "output_type": "stream",
     "text": [
      "Epoch 1/200\n",
      "WARNING:tensorflow:AutoGraph could not transform <function Model.make_train_function.<locals>.train_function at 0x000001BC44174AF8> and will run it as-is.\n",
      "Please report this to the TensorFlow team. When filing the bug, set the verbosity to 10 (on Linux, `export AUTOGRAPH_VERBOSITY=10`) and attach the full output.\n",
      "Cause: 'arguments' object has no attribute 'posonlyargs'\n",
      "To silence this warning, decorate the function with @tf.autograph.experimental.do_not_convert\n",
      "WARNING: AutoGraph could not transform <function Model.make_train_function.<locals>.train_function at 0x000001BC44174AF8> and will run it as-is.\n",
      "Please report this to the TensorFlow team. When filing the bug, set the verbosity to 10 (on Linux, `export AUTOGRAPH_VERBOSITY=10`) and attach the full output.\n",
      "Cause: 'arguments' object has no attribute 'posonlyargs'\n",
      "To silence this warning, decorate the function with @tf.autograph.experimental.do_not_convert\n",
      "244/244 - 4s - loss: 7.6275 - accuracy: 0.0245 - 4s/epoch - 17ms/step\n",
      "Epoch 2/200\n",
      "244/244 - 3s - loss: 7.1135 - accuracy: 0.0296 - 3s/epoch - 12ms/step\n",
      "Epoch 3/200\n",
      "244/244 - 3s - loss: 6.9782 - accuracy: 0.0333 - 3s/epoch - 12ms/step\n",
      "Epoch 4/200\n",
      "244/244 - 3s - loss: 6.8539 - accuracy: 0.0396 - 3s/epoch - 12ms/step\n",
      "Epoch 5/200\n",
      "244/244 - 3s - loss: 6.7022 - accuracy: 0.0443 - 3s/epoch - 12ms/step\n",
      "Epoch 6/200\n",
      "244/244 - 3s - loss: 6.5203 - accuracy: 0.0479 - 3s/epoch - 13ms/step\n",
      "Epoch 7/200\n",
      "244/244 - 3s - loss: 6.3243 - accuracy: 0.0519 - 3s/epoch - 13ms/step\n",
      "Epoch 8/200\n",
      "244/244 - 3s - loss: 6.1242 - accuracy: 0.0572 - 3s/epoch - 13ms/step\n",
      "Epoch 9/200\n",
      "244/244 - 3s - loss: 5.9316 - accuracy: 0.0628 - 3s/epoch - 13ms/step\n",
      "Epoch 10/200\n",
      "244/244 - 3s - loss: 5.7486 - accuracy: 0.0681 - 3s/epoch - 13ms/step\n",
      "Epoch 11/200\n",
      "244/244 - 3s - loss: 5.5720 - accuracy: 0.0691 - 3s/epoch - 14ms/step\n",
      "Epoch 12/200\n",
      "244/244 - 4s - loss: 5.4086 - accuracy: 0.0747 - 4s/epoch - 14ms/step\n",
      "Epoch 13/200\n",
      "244/244 - 3s - loss: 5.2582 - accuracy: 0.0792 - 3s/epoch - 14ms/step\n",
      "Epoch 14/200\n",
      "244/244 - 3s - loss: 5.1143 - accuracy: 0.0861 - 3s/epoch - 13ms/step\n",
      "Epoch 15/200\n",
      "244/244 - 3s - loss: 4.9737 - accuracy: 0.0942 - 3s/epoch - 14ms/step\n",
      "Epoch 16/200\n",
      "244/244 - 3s - loss: 4.8450 - accuracy: 0.1016 - 3s/epoch - 14ms/step\n",
      "Epoch 17/200\n",
      "244/244 - 3s - loss: 4.7164 - accuracy: 0.1125 - 3s/epoch - 14ms/step\n",
      "Epoch 18/200\n",
      "244/244 - 3s - loss: 4.5936 - accuracy: 0.1262 - 3s/epoch - 14ms/step\n",
      "Epoch 19/200\n",
      "244/244 - 3s - loss: 4.4741 - accuracy: 0.1399 - 3s/epoch - 14ms/step\n",
      "Epoch 20/200\n",
      "244/244 - 3s - loss: 4.3618 - accuracy: 0.1522 - 3s/epoch - 14ms/step\n",
      "Epoch 21/200\n",
      "244/244 - 3s - loss: 4.2484 - accuracy: 0.1720 - 3s/epoch - 14ms/step\n",
      "Epoch 22/200\n",
      "244/244 - 3s - loss: 4.1403 - accuracy: 0.1854 - 3s/epoch - 14ms/step\n",
      "Epoch 23/200\n",
      "244/244 - 3s - loss: 4.0323 - accuracy: 0.1995 - 3s/epoch - 14ms/step\n",
      "Epoch 24/200\n",
      "244/244 - 3s - loss: 3.9278 - accuracy: 0.2177 - 3s/epoch - 14ms/step\n",
      "Epoch 25/200\n",
      "244/244 - 3s - loss: 3.8264 - accuracy: 0.2322 - 3s/epoch - 13ms/step\n",
      "Epoch 26/200\n",
      "244/244 - 3s - loss: 3.7287 - accuracy: 0.2503 - 3s/epoch - 14ms/step\n",
      "Epoch 27/200\n",
      "244/244 - 3s - loss: 3.6335 - accuracy: 0.2682 - 3s/epoch - 13ms/step\n",
      "Epoch 28/200\n",
      "244/244 - 3s - loss: 3.5437 - accuracy: 0.2844 - 3s/epoch - 13ms/step\n",
      "Epoch 29/200\n",
      "244/244 - 3s - loss: 3.4519 - accuracy: 0.3039 - 3s/epoch - 13ms/step\n",
      "Epoch 30/200\n",
      "244/244 - 3s - loss: 3.3681 - accuracy: 0.3209 - 3s/epoch - 13ms/step\n",
      "Epoch 31/200\n",
      "244/244 - 3s - loss: 3.2850 - accuracy: 0.3362 - 3s/epoch - 13ms/step\n",
      "Epoch 32/200\n",
      "244/244 - 3s - loss: 3.2048 - accuracy: 0.3527 - 3s/epoch - 14ms/step\n",
      "Epoch 33/200\n",
      "244/244 - 3s - loss: 3.1242 - accuracy: 0.3656 - 3s/epoch - 13ms/step\n",
      "Epoch 34/200\n",
      "244/244 - 3s - loss: 3.0517 - accuracy: 0.3787 - 3s/epoch - 13ms/step\n",
      "Epoch 35/200\n",
      "244/244 - 3s - loss: 2.9779 - accuracy: 0.3913 - 3s/epoch - 14ms/step\n",
      "Epoch 36/200\n",
      "244/244 - 3s - loss: 2.9083 - accuracy: 0.4054 - 3s/epoch - 13ms/step\n",
      "Epoch 37/200\n",
      "244/244 - 3s - loss: 2.8423 - accuracy: 0.4164 - 3s/epoch - 13ms/step\n",
      "Epoch 38/200\n",
      "244/244 - 3s - loss: 2.7746 - accuracy: 0.4347 - 3s/epoch - 14ms/step\n",
      "Epoch 39/200\n",
      "244/244 - 3s - loss: 2.7112 - accuracy: 0.4433 - 3s/epoch - 14ms/step\n",
      "Epoch 40/200\n",
      "244/244 - 3s - loss: 2.6527 - accuracy: 0.4542 - 3s/epoch - 13ms/step\n",
      "Epoch 41/200\n",
      "244/244 - 3s - loss: 2.5893 - accuracy: 0.4733 - 3s/epoch - 13ms/step\n",
      "Epoch 42/200\n",
      "244/244 - 3s - loss: 2.5335 - accuracy: 0.4775 - 3s/epoch - 13ms/step\n",
      "Epoch 43/200\n",
      "244/244 - 3s - loss: 2.4781 - accuracy: 0.4862 - 3s/epoch - 13ms/step\n",
      "Epoch 44/200\n",
      "244/244 - 3s - loss: 2.4213 - accuracy: 0.5048 - 3s/epoch - 14ms/step\n",
      "Epoch 45/200\n",
      "244/244 - 3s - loss: 2.3699 - accuracy: 0.5142 - 3s/epoch - 14ms/step\n",
      "Epoch 46/200\n",
      "244/244 - 3s - loss: 2.3179 - accuracy: 0.5208 - 3s/epoch - 14ms/step\n",
      "Epoch 47/200\n",
      "244/244 - 3s - loss: 2.2673 - accuracy: 0.5317 - 3s/epoch - 14ms/step\n",
      "Epoch 48/200\n",
      "244/244 - 3s - loss: 2.2191 - accuracy: 0.5415 - 3s/epoch - 13ms/step\n",
      "Epoch 49/200\n",
      "244/244 - 3s - loss: 2.1700 - accuracy: 0.5527 - 3s/epoch - 13ms/step\n",
      "Epoch 50/200\n",
      "244/244 - 3s - loss: 2.1225 - accuracy: 0.5641 - 3s/epoch - 14ms/step\n",
      "Epoch 51/200\n",
      "244/244 - 3s - loss: 2.0783 - accuracy: 0.5747 - 3s/epoch - 13ms/step\n",
      "Epoch 52/200\n",
      "244/244 - 3s - loss: 2.0323 - accuracy: 0.5840 - 3s/epoch - 13ms/step\n",
      "Epoch 53/200\n",
      "244/244 - 3s - loss: 1.9885 - accuracy: 0.5917 - 3s/epoch - 13ms/step\n",
      "Epoch 54/200\n",
      "244/244 - 3s - loss: 1.9429 - accuracy: 0.6021 - 3s/epoch - 14ms/step\n",
      "Epoch 55/200\n",
      "244/244 - 3s - loss: 1.9036 - accuracy: 0.6085 - 3s/epoch - 14ms/step\n",
      "Epoch 56/200\n",
      "244/244 - 3s - loss: 1.8640 - accuracy: 0.6181 - 3s/epoch - 14ms/step\n",
      "Epoch 57/200\n",
      "244/244 - 3s - loss: 1.8234 - accuracy: 0.6250 - 3s/epoch - 13ms/step\n",
      "Epoch 58/200\n",
      "244/244 - 3s - loss: 1.7841 - accuracy: 0.6382 - 3s/epoch - 14ms/step\n",
      "Epoch 59/200\n",
      "244/244 - 3s - loss: 1.7453 - accuracy: 0.6446 - 3s/epoch - 14ms/step\n",
      "Epoch 60/200\n",
      "244/244 - 3s - loss: 1.7091 - accuracy: 0.6537 - 3s/epoch - 13ms/step\n",
      "Epoch 61/200\n",
      "244/244 - 3s - loss: 1.6684 - accuracy: 0.6646 - 3s/epoch - 13ms/step\n",
      "Epoch 62/200\n",
      "244/244 - 3s - loss: 1.6349 - accuracy: 0.6688 - 3s/epoch - 14ms/step\n",
      "Epoch 63/200\n",
      "244/244 - 3s - loss: 1.5995 - accuracy: 0.6778 - 3s/epoch - 13ms/step\n",
      "Epoch 64/200\n",
      "244/244 - 4s - loss: 1.5627 - accuracy: 0.6870 - 4s/epoch - 14ms/step\n",
      "Epoch 65/200\n",
      "244/244 - 3s - loss: 1.5299 - accuracy: 0.6965 - 3s/epoch - 14ms/step\n",
      "Epoch 66/200\n",
      "244/244 - 3s - loss: 1.4968 - accuracy: 0.7019 - 3s/epoch - 14ms/step\n",
      "Epoch 67/200\n",
      "244/244 - 3s - loss: 1.4615 - accuracy: 0.7082 - 3s/epoch - 14ms/step\n",
      "Epoch 68/200\n",
      "244/244 - 4s - loss: 1.4303 - accuracy: 0.7152 - 4s/epoch - 15ms/step\n",
      "Epoch 69/200\n",
      "244/244 - 3s - loss: 1.3989 - accuracy: 0.7238 - 3s/epoch - 14ms/step\n",
      "Epoch 70/200\n",
      "244/244 - 3s - loss: 1.3706 - accuracy: 0.7265 - 3s/epoch - 14ms/step\n",
      "Epoch 71/200\n",
      "244/244 - 3s - loss: 1.3398 - accuracy: 0.7372 - 3s/epoch - 14ms/step\n",
      "Epoch 72/200\n",
      "244/244 - 4s - loss: 1.3099 - accuracy: 0.7425 - 4s/epoch - 15ms/step\n",
      "Epoch 73/200\n",
      "244/244 - 3s - loss: 1.2813 - accuracy: 0.7469 - 3s/epoch - 14ms/step\n",
      "Epoch 74/200\n",
      "244/244 - 3s - loss: 1.2543 - accuracy: 0.7565 - 3s/epoch - 14ms/step\n",
      "Epoch 75/200\n",
      "244/244 - 3s - loss: 1.2250 - accuracy: 0.7597 - 3s/epoch - 13ms/step\n",
      "Epoch 76/200\n",
      "244/244 - 3s - loss: 1.1978 - accuracy: 0.7642 - 3s/epoch - 13ms/step\n",
      "Epoch 77/200\n",
      "244/244 - 3s - loss: 1.1729 - accuracy: 0.7715 - 3s/epoch - 13ms/step\n",
      "Epoch 78/200\n",
      "244/244 - 3s - loss: 1.1443 - accuracy: 0.7760 - 3s/epoch - 13ms/step\n",
      "Epoch 79/200\n",
      "244/244 - 3s - loss: 1.1184 - accuracy: 0.7818 - 3s/epoch - 13ms/step\n",
      "Epoch 80/200\n",
      "244/244 - 3s - loss: 1.0953 - accuracy: 0.7871 - 3s/epoch - 14ms/step\n",
      "Epoch 81/200\n",
      "244/244 - 3s - loss: 1.0709 - accuracy: 0.7893 - 3s/epoch - 14ms/step\n",
      "Epoch 82/200\n",
      "244/244 - 3s - loss: 1.0468 - accuracy: 0.7960 - 3s/epoch - 13ms/step\n",
      "Epoch 83/200\n",
      "244/244 - 3s - loss: 1.0238 - accuracy: 0.7985 - 3s/epoch - 14ms/step\n",
      "Epoch 84/200\n",
      "244/244 - 3s - loss: 1.0011 - accuracy: 0.8043 - 3s/epoch - 14ms/step\n",
      "Epoch 85/200\n",
      "244/244 - 3s - loss: 0.9781 - accuracy: 0.8053 - 3s/epoch - 14ms/step\n",
      "Epoch 86/200\n",
      "244/244 - 4s - loss: 0.9557 - accuracy: 0.8142 - 4s/epoch - 16ms/step\n",
      "Epoch 87/200\n",
      "244/244 - 3s - loss: 0.9378 - accuracy: 0.8152 - 3s/epoch - 14ms/step\n",
      "Epoch 88/200\n",
      "244/244 - 3s - loss: 0.9170 - accuracy: 0.8178 - 3s/epoch - 14ms/step\n"
     ]
    },
    {
     "name": "stdout",
     "output_type": "stream",
     "text": [
      "Epoch 89/200\n",
      "244/244 - 3s - loss: 0.8955 - accuracy: 0.8246 - 3s/epoch - 14ms/step\n",
      "Epoch 90/200\n",
      "244/244 - 3s - loss: 0.8762 - accuracy: 0.8270 - 3s/epoch - 13ms/step\n",
      "Epoch 91/200\n",
      "244/244 - 3s - loss: 0.8546 - accuracy: 0.8324 - 3s/epoch - 13ms/step\n",
      "Epoch 92/200\n",
      "244/244 - 3s - loss: 0.8398 - accuracy: 0.8360 - 3s/epoch - 13ms/step\n",
      "Epoch 93/200\n",
      "244/244 - 3s - loss: 0.8204 - accuracy: 0.8392 - 3s/epoch - 13ms/step\n",
      "Epoch 94/200\n",
      "244/244 - 3s - loss: 0.8004 - accuracy: 0.8421 - 3s/epoch - 13ms/step\n",
      "Epoch 95/200\n",
      "244/244 - 3s - loss: 0.7840 - accuracy: 0.8448 - 3s/epoch - 13ms/step\n",
      "Epoch 96/200\n",
      "244/244 - 3s - loss: 0.7659 - accuracy: 0.8485 - 3s/epoch - 13ms/step\n",
      "Epoch 97/200\n",
      "244/244 - 3s - loss: 0.7502 - accuracy: 0.8503 - 3s/epoch - 13ms/step\n",
      "Epoch 98/200\n",
      "244/244 - 3s - loss: 0.7355 - accuracy: 0.8534 - 3s/epoch - 13ms/step\n",
      "Epoch 99/200\n",
      "244/244 - 3s - loss: 0.7201 - accuracy: 0.8592 - 3s/epoch - 13ms/step\n",
      "Epoch 100/200\n",
      "244/244 - 3s - loss: 0.7047 - accuracy: 0.8592 - 3s/epoch - 13ms/step\n",
      "Epoch 101/200\n",
      "244/244 - 3s - loss: 0.6904 - accuracy: 0.8638 - 3s/epoch - 13ms/step\n",
      "Epoch 102/200\n",
      "244/244 - 3s - loss: 0.6753 - accuracy: 0.8665 - 3s/epoch - 14ms/step\n",
      "Epoch 103/200\n",
      "244/244 - 3s - loss: 0.6626 - accuracy: 0.8699 - 3s/epoch - 13ms/step\n",
      "Epoch 104/200\n",
      "244/244 - 3s - loss: 0.6488 - accuracy: 0.8733 - 3s/epoch - 13ms/step\n",
      "Epoch 105/200\n",
      "244/244 - 3s - loss: 0.6335 - accuracy: 0.8745 - 3s/epoch - 13ms/step\n",
      "Epoch 106/200\n",
      "244/244 - 3s - loss: 0.6217 - accuracy: 0.8767 - 3s/epoch - 13ms/step\n",
      "Epoch 107/200\n",
      "244/244 - 3s - loss: 0.6096 - accuracy: 0.8772 - 3s/epoch - 13ms/step\n",
      "Epoch 108/200\n",
      "244/244 - 3s - loss: 0.5958 - accuracy: 0.8788 - 3s/epoch - 14ms/step\n",
      "Epoch 109/200\n",
      "244/244 - 3s - loss: 0.5832 - accuracy: 0.8867 - 3s/epoch - 13ms/step\n",
      "Epoch 110/200\n",
      "244/244 - 3s - loss: 0.5720 - accuracy: 0.8852 - 3s/epoch - 14ms/step\n",
      "Epoch 111/200\n",
      "244/244 - 3s - loss: 0.5622 - accuracy: 0.8850 - 3s/epoch - 13ms/step\n",
      "Epoch 112/200\n",
      "244/244 - 4s - loss: 0.5517 - accuracy: 0.8870 - 4s/epoch - 15ms/step\n",
      "Epoch 113/200\n",
      "244/244 - 3s - loss: 0.5429 - accuracy: 0.8909 - 3s/epoch - 13ms/step\n",
      "Epoch 114/200\n",
      "244/244 - 3s - loss: 0.5319 - accuracy: 0.8927 - 3s/epoch - 13ms/step\n",
      "Epoch 115/200\n",
      "244/244 - 3s - loss: 0.5186 - accuracy: 0.8948 - 3s/epoch - 13ms/step\n",
      "Epoch 116/200\n",
      "244/244 - 3s - loss: 0.5105 - accuracy: 0.8966 - 3s/epoch - 13ms/step\n",
      "Epoch 117/200\n",
      "244/244 - 3s - loss: 0.5028 - accuracy: 0.8980 - 3s/epoch - 13ms/step\n",
      "Epoch 118/200\n",
      "244/244 - 3s - loss: 0.4970 - accuracy: 0.8977 - 3s/epoch - 13ms/step\n",
      "Epoch 119/200\n",
      "244/244 - 3s - loss: 0.4827 - accuracy: 0.8995 - 3s/epoch - 13ms/step\n",
      "Epoch 120/200\n",
      "244/244 - 3s - loss: 0.4738 - accuracy: 0.9027 - 3s/epoch - 13ms/step\n",
      "Epoch 121/200\n",
      "244/244 - 3s - loss: 0.4662 - accuracy: 0.9032 - 3s/epoch - 13ms/step\n",
      "Epoch 122/200\n",
      "244/244 - 3s - loss: 0.4596 - accuracy: 0.9013 - 3s/epoch - 13ms/step\n",
      "Epoch 123/200\n",
      "244/244 - 3s - loss: 0.4520 - accuracy: 0.9052 - 3s/epoch - 14ms/step\n",
      "Epoch 124/200\n",
      "244/244 - 3s - loss: 0.4471 - accuracy: 0.9039 - 3s/epoch - 13ms/step\n",
      "Epoch 125/200\n",
      "244/244 - 3s - loss: 0.4391 - accuracy: 0.9063 - 3s/epoch - 14ms/step\n",
      "Epoch 126/200\n",
      "244/244 - 3s - loss: 0.4304 - accuracy: 0.9073 - 3s/epoch - 13ms/step\n",
      "Epoch 127/200\n",
      "244/244 - 3s - loss: 0.4228 - accuracy: 0.9067 - 3s/epoch - 13ms/step\n",
      "Epoch 128/200\n",
      "244/244 - 3s - loss: 0.4148 - accuracy: 0.9077 - 3s/epoch - 14ms/step\n",
      "Epoch 129/200\n",
      "244/244 - 3s - loss: 0.4104 - accuracy: 0.9103 - 3s/epoch - 14ms/step\n",
      "Epoch 130/200\n",
      "244/244 - 4s - loss: 0.4028 - accuracy: 0.9098 - 4s/epoch - 15ms/step\n",
      "Epoch 131/200\n",
      "244/244 - 3s - loss: 0.3979 - accuracy: 0.9108 - 3s/epoch - 14ms/step\n",
      "Epoch 132/200\n",
      "244/244 - 3s - loss: 0.3930 - accuracy: 0.9068 - 3s/epoch - 14ms/step\n",
      "Epoch 133/200\n",
      "244/244 - 4s - loss: 0.3869 - accuracy: 0.9103 - 4s/epoch - 15ms/step\n",
      "Epoch 134/200\n",
      "244/244 - 4s - loss: 0.3855 - accuracy: 0.9120 - 4s/epoch - 15ms/step\n",
      "Epoch 135/200\n",
      "244/244 - 3s - loss: 0.3778 - accuracy: 0.9107 - 3s/epoch - 14ms/step\n",
      "Epoch 136/200\n",
      "244/244 - 3s - loss: 0.3738 - accuracy: 0.9123 - 3s/epoch - 13ms/step\n",
      "Epoch 137/200\n",
      "244/244 - 3s - loss: 0.3687 - accuracy: 0.9139 - 3s/epoch - 14ms/step\n",
      "Epoch 138/200\n",
      "244/244 - 3s - loss: 0.3641 - accuracy: 0.9118 - 3s/epoch - 14ms/step\n",
      "Epoch 139/200\n",
      "244/244 - 3s - loss: 0.3590 - accuracy: 0.9145 - 3s/epoch - 14ms/step\n",
      "Epoch 140/200\n",
      "244/244 - 3s - loss: 0.3629 - accuracy: 0.9114 - 3s/epoch - 14ms/step\n",
      "Epoch 141/200\n",
      "244/244 - 4s - loss: 0.3518 - accuracy: 0.9140 - 4s/epoch - 15ms/step\n",
      "Epoch 142/200\n",
      "244/244 - 4s - loss: 0.3463 - accuracy: 0.9154 - 4s/epoch - 15ms/step\n",
      "Epoch 143/200\n",
      "244/244 - 4s - loss: 0.3452 - accuracy: 0.9136 - 4s/epoch - 15ms/step\n",
      "Epoch 144/200\n",
      "244/244 - 4s - loss: 0.3392 - accuracy: 0.9159 - 4s/epoch - 16ms/step\n",
      "Epoch 145/200\n",
      "244/244 - 3s - loss: 0.3347 - accuracy: 0.9162 - 3s/epoch - 14ms/step\n",
      "Epoch 146/200\n",
      "244/244 - 3s - loss: 0.3324 - accuracy: 0.9149 - 3s/epoch - 14ms/step\n",
      "Epoch 147/200\n",
      "244/244 - 3s - loss: 0.3321 - accuracy: 0.9136 - 3s/epoch - 14ms/step\n",
      "Epoch 148/200\n",
      "244/244 - 3s - loss: 0.3271 - accuracy: 0.9157 - 3s/epoch - 14ms/step\n",
      "Epoch 149/200\n",
      "244/244 - 4s - loss: 0.3235 - accuracy: 0.9162 - 4s/epoch - 15ms/step\n",
      "Epoch 150/200\n",
      "244/244 - 3s - loss: 0.3203 - accuracy: 0.9157 - 3s/epoch - 14ms/step\n",
      "Epoch 151/200\n",
      "244/244 - 3s - loss: 0.3204 - accuracy: 0.9149 - 3s/epoch - 14ms/step\n",
      "Epoch 152/200\n",
      "244/244 - 3s - loss: 0.3527 - accuracy: 0.9093 - 3s/epoch - 14ms/step\n",
      "Epoch 153/200\n",
      "244/244 - 3s - loss: 0.3372 - accuracy: 0.9120 - 3s/epoch - 14ms/step\n",
      "Epoch 154/200\n",
      "244/244 - 3s - loss: 0.3207 - accuracy: 0.9145 - 3s/epoch - 14ms/step\n",
      "Epoch 155/200\n",
      "244/244 - 3s - loss: 0.3080 - accuracy: 0.9172 - 3s/epoch - 14ms/step\n",
      "Epoch 156/200\n",
      "244/244 - 3s - loss: 0.3057 - accuracy: 0.9176 - 3s/epoch - 14ms/step\n",
      "Epoch 157/200\n",
      "244/244 - 3s - loss: 0.3028 - accuracy: 0.9161 - 3s/epoch - 14ms/step\n",
      "Epoch 158/200\n",
      "244/244 - 3s - loss: 0.3017 - accuracy: 0.9177 - 3s/epoch - 14ms/step\n",
      "Epoch 159/200\n",
      "244/244 - 4s - loss: 0.3014 - accuracy: 0.9161 - 4s/epoch - 14ms/step\n",
      "Epoch 160/200\n",
      "244/244 - 3s - loss: 0.2988 - accuracy: 0.9164 - 3s/epoch - 14ms/step\n",
      "Epoch 161/200\n",
      "244/244 - 3s - loss: 0.2976 - accuracy: 0.9159 - 3s/epoch - 14ms/step\n",
      "Epoch 162/200\n",
      "244/244 - 3s - loss: 0.2959 - accuracy: 0.9181 - 3s/epoch - 14ms/step\n",
      "Epoch 163/200\n",
      "244/244 - 4s - loss: 0.2945 - accuracy: 0.9163 - 4s/epoch - 15ms/step\n",
      "Epoch 164/200\n",
      "244/244 - 3s - loss: 0.2939 - accuracy: 0.9159 - 3s/epoch - 14ms/step\n",
      "Epoch 165/200\n",
      "244/244 - 3s - loss: 0.2918 - accuracy: 0.9163 - 3s/epoch - 14ms/step\n",
      "Epoch 166/200\n",
      "244/244 - 3s - loss: 0.2905 - accuracy: 0.9164 - 3s/epoch - 14ms/step\n",
      "Epoch 167/200\n",
      "244/244 - 3s - loss: 0.2911 - accuracy: 0.9163 - 3s/epoch - 14ms/step\n",
      "Epoch 168/200\n",
      "244/244 - 3s - loss: 0.2909 - accuracy: 0.9173 - 3s/epoch - 14ms/step\n",
      "Epoch 169/200\n",
      "244/244 - 3s - loss: 0.2873 - accuracy: 0.9163 - 3s/epoch - 14ms/step\n",
      "Epoch 170/200\n",
      "244/244 - 3s - loss: 0.2905 - accuracy: 0.9163 - 3s/epoch - 14ms/step\n",
      "Epoch 171/200\n",
      "244/244 - 3s - loss: 0.3038 - accuracy: 0.9126 - 3s/epoch - 14ms/step\n",
      "Epoch 172/200\n",
      "244/244 - 3s - loss: 0.2958 - accuracy: 0.9157 - 3s/epoch - 14ms/step\n",
      "Epoch 173/200\n",
      "244/244 - 3s - loss: 0.2855 - accuracy: 0.9179 - 3s/epoch - 14ms/step\n",
      "Epoch 174/200\n",
      "244/244 - 3s - loss: 0.2808 - accuracy: 0.9157 - 3s/epoch - 14ms/step\n",
      "Epoch 175/200\n",
      "244/244 - 3s - loss: 0.2805 - accuracy: 0.9154 - 3s/epoch - 14ms/step\n",
      "Epoch 176/200\n",
      "244/244 - 3s - loss: 0.2791 - accuracy: 0.9162 - 3s/epoch - 14ms/step\n",
      "Epoch 177/200\n",
      "244/244 - 3s - loss: 0.2783 - accuracy: 0.9171 - 3s/epoch - 14ms/step\n",
      "Epoch 178/200\n",
      "244/244 - 4s - loss: 0.2769 - accuracy: 0.9164 - 4s/epoch - 15ms/step\n",
      "Epoch 179/200\n",
      "244/244 - 4s - loss: 0.2762 - accuracy: 0.9153 - 4s/epoch - 16ms/step\n",
      "Epoch 180/200\n",
      "244/244 - 4s - loss: 0.2768 - accuracy: 0.9168 - 4s/epoch - 16ms/step\n",
      "Epoch 181/200\n",
      "244/244 - 4s - loss: 0.2754 - accuracy: 0.9163 - 4s/epoch - 16ms/step\n",
      "Epoch 182/200\n",
      "244/244 - 4s - loss: 0.2802 - accuracy: 0.9153 - 4s/epoch - 15ms/step\n",
      "Epoch 183/200\n",
      "244/244 - 4s - loss: 0.2789 - accuracy: 0.9184 - 4s/epoch - 15ms/step\n",
      "Epoch 184/200\n",
      "244/244 - 3s - loss: 0.2783 - accuracy: 0.9163 - 3s/epoch - 14ms/step\n",
      "Epoch 185/200\n",
      "244/244 - 3s - loss: 0.2736 - accuracy: 0.9155 - 3s/epoch - 14ms/step\n",
      "Epoch 186/200\n",
      "244/244 - 3s - loss: 0.2727 - accuracy: 0.9161 - 3s/epoch - 14ms/step\n"
     ]
    },
    {
     "name": "stdout",
     "output_type": "stream",
     "text": [
      "Epoch 187/200\n",
      "244/244 - 3s - loss: 0.2710 - accuracy: 0.9177 - 3s/epoch - 14ms/step\n",
      "Epoch 188/200\n",
      "244/244 - 3s - loss: 0.2714 - accuracy: 0.9175 - 3s/epoch - 14ms/step\n",
      "Epoch 189/200\n",
      "244/244 - 3s - loss: 0.2705 - accuracy: 0.9157 - 3s/epoch - 14ms/step\n",
      "Epoch 190/200\n",
      "244/244 - 3s - loss: 0.2701 - accuracy: 0.9168 - 3s/epoch - 14ms/step\n",
      "Epoch 191/200\n",
      "244/244 - 3s - loss: 0.2694 - accuracy: 0.9157 - 3s/epoch - 14ms/step\n",
      "Epoch 192/200\n",
      "244/244 - 3s - loss: 0.2694 - accuracy: 0.9168 - 3s/epoch - 14ms/step\n",
      "Epoch 193/200\n",
      "244/244 - 4s - loss: 0.2742 - accuracy: 0.9136 - 4s/epoch - 14ms/step\n",
      "Epoch 194/200\n",
      "244/244 - 4s - loss: 0.2980 - accuracy: 0.9130 - 4s/epoch - 15ms/step\n",
      "Epoch 195/200\n",
      "244/244 - 3s - loss: 0.2767 - accuracy: 0.9164 - 3s/epoch - 14ms/step\n",
      "Epoch 196/200\n",
      "244/244 - 3s - loss: 0.2687 - accuracy: 0.9163 - 3s/epoch - 14ms/step\n",
      "Epoch 197/200\n",
      "244/244 - 3s - loss: 0.2679 - accuracy: 0.9159 - 3s/epoch - 14ms/step\n",
      "Epoch 198/200\n",
      "244/244 - 3s - loss: 0.2656 - accuracy: 0.9162 - 3s/epoch - 14ms/step\n",
      "Epoch 199/200\n",
      "244/244 - 3s - loss: 0.2651 - accuracy: 0.9168 - 3s/epoch - 14ms/step\n",
      "Epoch 200/200\n",
      "244/244 - 3s - loss: 0.2650 - accuracy: 0.9164 - 3s/epoch - 14ms/step\n"
     ]
    },
    {
     "data": {
      "text/plain": [
       "<keras.callbacks.History at 0x1bc41a42dc8>"
      ]
     },
     "execution_count": 136,
     "metadata": {},
     "output_type": "execute_result"
    }
   ],
   "source": [
    "model.compile(loss='categorical_crossentropy', optimizer='adam', metrics=['accuracy'])\n",
    "model.fit(X, y, epochs=200, verbose=2)"
   ]
  },
  {
   "cell_type": "code",
   "execution_count": 137,
   "id": "d4cc0f83",
   "metadata": {},
   "outputs": [],
   "source": [
    "def sentence_generation(model, t, current_word, n):\n",
    "    init_word = current_word\n",
    "    sentence = ''\n",
    "    \n",
    "    for _ in range(n):\n",
    "        encoded = t.texts_to_sequences([current_word])[0]\n",
    "        encoded = pad_sequences([encoded], maxlen=23, padding='pre')\n",
    "        temp = model.predict(encoded, verbose=1)\n",
    "        result = np.argmax(temp, axis=-1)\n",
    "        \n",
    "        for word, index in t.word_index.items():\n",
    "            if index == result:\n",
    "                break\n",
    "                \n",
    "        current_word = current_word + ' ' + word\n",
    "        sentence = sentence + ' ' + word\n",
    "        \n",
    "    sentence = init_word + sentence\n",
    "    return sentence"
   ]
  },
  {
   "cell_type": "code",
   "execution_count": 141,
   "id": "6b544a19",
   "metadata": {},
   "outputs": [
    {
     "name": "stdout",
     "output_type": "stream",
     "text": [
      "*** 임의의 단어 'i'로 문장 만들기 ***\n",
      "1/1 [==============================] - 0s 17ms/step\n",
      "1/1 [==============================] - 0s 16ms/step\n",
      "1/1 [==============================] - 0s 17ms/step\n",
      "1/1 [==============================] - 0s 19ms/step\n",
      "1/1 [==============================] - 0s 15ms/step\n",
      "1/1 [==============================] - 0s 16ms/step\n",
      "1/1 [==============================] - 0s 18ms/step\n",
      "1/1 [==============================] - 0s 17ms/step\n",
      "1/1 [==============================] - 0s 18ms/step\n",
      "1/1 [==============================] - 0s 14ms/step\n",
      "i want to be rich and im not sorry think indian\n"
     ]
    }
   ],
   "source": [
    "print(\"*** 임의의 단어 'i'로 문장 만들기 ***\")\n",
    "print(sentence_generation(model, t, 'i', 10))"
   ]
  },
  {
   "cell_type": "code",
   "execution_count": 142,
   "id": "593df91f",
   "metadata": {
    "scrolled": true
   },
   "outputs": [
    {
     "name": "stdout",
     "output_type": "stream",
     "text": [
      "*** 임의의 단어 'how'로 문장 만들기 ***\n",
      "1/1 [==============================] - 0s 16ms/step\n",
      "1/1 [==============================] - 0s 19ms/step\n",
      "1/1 [==============================] - 0s 14ms/step\n",
      "1/1 [==============================] - 0s 19ms/step\n",
      "1/1 [==============================] - 0s 14ms/step\n",
      "1/1 [==============================] - 0s 17ms/step\n",
      "1/1 [==============================] - 0s 15ms/step\n",
      "1/1 [==============================] - 0s 14ms/step\n",
      "1/1 [==============================] - 0s 14ms/step\n",
      "1/1 [==============================] - 0s 15ms/step\n",
      "how to make facebook more accountable wont too cia i losing\n"
     ]
    }
   ],
   "source": [
    "print(\"*** 임의의 단어 'how'로 문장 만들기 ***\")\n",
    "print(sentence_generation(model, t, 'how', 10))"
   ]
  },
  {
   "cell_type": "markdown",
   "id": "489af614",
   "metadata": {},
   "source": [
    "---"
   ]
  },
  {
   "cell_type": "markdown",
   "id": "7fc0e917",
   "metadata": {},
   "source": [
    "## 영화 리뷰 예제"
   ]
  },
  {
   "cell_type": "markdown",
   "id": "b2d2020f",
   "metadata": {},
   "source": [
    "1. JDK 설치\n",
    "    - https://www.oracle.com/kr/java/technologies/downloads/#java8-windows\n",
    "    - \n",
    "2. Jpype1 설치\n",
    "    - https://www.lfd.uci.edu/~gohlke/pythonlibs/#jpype\n",
    "    - JPype1‑1.3.0‑cp37‑cp37m‑win_amd64.whl 설치\n",
    "    \n",
    "3. konlpy 설치"
   ]
  }
 ],
 "metadata": {
  "kernelspec": {
   "display_name": "Python 3 (ipykernel)",
   "language": "python",
   "name": "python3"
  },
  "language_info": {
   "codemirror_mode": {
    "name": "ipython",
    "version": 3
   },
   "file_extension": ".py",
   "mimetype": "text/x-python",
   "name": "python",
   "nbconvert_exporter": "python",
   "pygments_lexer": "ipython3",
   "version": "3.7.9"
  }
 },
 "nbformat": 4,
 "nbformat_minor": 5
}
